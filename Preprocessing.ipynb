{
 "cells": [
  {
   "cell_type": "code",
   "execution_count": 1,
   "id": "acting-warrant",
   "metadata": {},
   "outputs": [],
   "source": [
    "#importujemy potrzebne biblioteki\n",
    "\n",
    "import pandas as pd\n",
    "import numpy as np\n",
    "import pandas_profiling"
   ]
  },
  {
   "cell_type": "code",
   "execution_count": 2,
   "id": "australian-fortune",
   "metadata": {},
   "outputs": [],
   "source": [
    "#ustawiamy widoczność większej ilości kolumn\n",
    "\n",
    "pd.set_option('display.max_columns',50)"
   ]
  },
  {
   "cell_type": "code",
   "execution_count": 3,
   "id": "coastal-ireland",
   "metadata": {},
   "outputs": [],
   "source": [
    "df=pd.read_excel('default of credit card clients.xls',header=1,index_col='ID')"
   ]
  },
  {
   "cell_type": "code",
   "execution_count": 4,
   "id": "37bde89b",
   "metadata": {},
   "outputs": [],
   "source": [
    "#ustawaimy część zmiennych jako object\n",
    "df.loc[:,'SEX':'MARRIAGE']=df.loc[:,'SEX':'MARRIAGE'].astype('object')"
   ]
  },
  {
   "cell_type": "code",
   "execution_count": 5,
   "id": "b11945c1",
   "metadata": {},
   "outputs": [],
   "source": [
    "#zamieniamy nazwe zmiennej objaśnianej na y\n",
    "\n",
    "target='y'\n",
    "df.rename(columns={'default payment next month':'y'},inplace=True)"
   ]
  },
  {
   "cell_type": "code",
   "execution_count": 6,
   "id": "34340d20",
   "metadata": {},
   "outputs": [],
   "source": [
    "#tworzymy listę zmiennych objaśniających\n",
    "\n",
    "features=df.columns.tolist()\n",
    "features.remove('y')"
   ]
  },
  {
   "cell_type": "code",
   "execution_count": 7,
   "id": "1f806b3e",
   "metadata": {},
   "outputs": [],
   "source": [
    "#zmieniam zmienna, teraz 1 oznacza klienta ktory splaci zobowiazanie, a 0 niewyplacalnego\n",
    "\n",
    "df.y=1-df.y"
   ]
  },
  {
   "cell_type": "code",
   "execution_count": 8,
   "id": "joined-opportunity",
   "metadata": {},
   "outputs": [],
   "source": [
    "#wpływ wieku może być nieliniowy, dodajmy więc kwadrat\n",
    "\n",
    "df['AGE_SQ']=df.AGE.apply(lambda x: x**2)"
   ]
  },
  {
   "cell_type": "code",
   "execution_count": 9,
   "id": "friendly-listing",
   "metadata": {},
   "outputs": [],
   "source": [
    "#to samo zróbmy ze zmienną odpowiedzialną za zwklekanie ze spłatą, ze względu na występowanie zmiennych ujemnych dodajemy 2            \n",
    "\n",
    "df.loc[:,\"PAY_0\":'PAY_6']+=2\n",
    "\n",
    "for clmn in df.loc[:,'PAY_0':'PAY_6'].columns.tolist():\n",
    "    df[f'{clmn}_SQ']=df[clmn].apply(lambda x: x**2)"
   ]
  },
  {
   "cell_type": "code",
   "execution_count": 10,
   "id": "a4873aa9",
   "metadata": {},
   "outputs": [],
   "source": [
    "#tworzymy zmienne zerojedynkowe odpowiadające kolejnym poziomom zmiennych dyskretnych\n",
    "\n",
    "df2=pd.get_dummies(df,drop_first=True)\n",
    "\n",
    "#dla algorytmów drzew losowych nie będzie potrzebne użycie label encodera dla naszego zbioru danych, ponieważ wszystkie zmienne są numeryczne"
   ]
  },
  {
   "cell_type": "code",
   "execution_count": 11,
   "id": "naughty-helicopter",
   "metadata": {
    "scrolled": true
   },
   "outputs": [
    {
     "data": {
      "application/vnd.jupyter.widget-view+json": {
       "model_id": "024682d47dd2407594c6478e40d14666",
       "version_major": 2,
       "version_minor": 0
      },
      "text/plain": [
       "Summarize dataset:   0%|          | 0/5 [00:00<?, ?it/s]"
      ]
     },
     "metadata": {},
     "output_type": "display_data"
    },
    {
     "data": {
      "application/vnd.jupyter.widget-view+json": {
       "model_id": "96d8e57ceaa341d9a7035ba040b58f3c",
       "version_major": 2,
       "version_minor": 0
      },
      "text/plain": [
       "Generate report structure:   0%|          | 0/1 [00:00<?, ?it/s]"
      ]
     },
     "metadata": {},
     "output_type": "display_data"
    },
    {
     "data": {
      "application/vnd.jupyter.widget-view+json": {
       "model_id": "d797ba48b96545758624f441e266840d",
       "version_major": 2,
       "version_minor": 0
      },
      "text/plain": [
       "Render HTML:   0%|          | 0/1 [00:00<?, ?it/s]"
      ]
     },
     "metadata": {},
     "output_type": "display_data"
    },
    {
     "data": {
      "application/vnd.jupyter.widget-view+json": {
       "model_id": "2062108c30fa49b79ada4d0eff6a97db",
       "version_major": 2,
       "version_minor": 0
      },
      "text/plain": [
       "Export report to file:   0%|          | 0/1 [00:00<?, ?it/s]"
      ]
     },
     "metadata": {},
     "output_type": "display_data"
    }
   ],
   "source": [
    "pandas_profiling.ProfileReport(df2).to_file('ML.html')\n",
    "\n",
    "#zmienne BILL_AMT i MARRIAGE cechują się wysokim współczynnikiem korelacji, a zmienna PAY_AMT2 jest silnie skośna\n",
    "#zmienne te mogą być problematyczne\n",
    "#kwadraty zmiennych są naturalnie skorelowane"
   ]
  },
  {
   "cell_type": "code",
   "execution_count": 12,
   "id": "69c19f74",
   "metadata": {
    "scrolled": true
   },
   "outputs": [
    {
     "data": {
      "text/plain": [
       "1    23364\n",
       "0     6636\n",
       "Name: y, dtype: int64"
      ]
     },
     "execution_count": 12,
     "metadata": {},
     "output_type": "execute_result"
    }
   ],
   "source": [
    "df2.y.value_counts()\n",
    "#okolo 20% obserwacji z wartoscia 0, lepiej wiec uzyc Stratified KF"
   ]
  },
  {
   "cell_type": "code",
   "execution_count": 13,
   "id": "2ee13238",
   "metadata": {},
   "outputs": [],
   "source": [
    "#zapisujemy df dla algorytmu drzew losowych i df2 dla pozostałych algorytmów\n",
    "\n",
    "df.to_excel('credit_card_data.xlsx')\n",
    "\n",
    "df2.to_excel('dumm_credit_card_data.xlsx')"
   ]
  }
 ],
 "metadata": {
  "kernelspec": {
   "display_name": "Python 3.8 (tensorflow)",
   "language": "python",
   "name": "tensorflow"
  },
  "language_info": {
   "codemirror_mode": {
    "name": "ipython",
    "version": 3
   },
   "file_extension": ".py",
   "mimetype": "text/x-python",
   "name": "python",
   "nbconvert_exporter": "python",
   "pygments_lexer": "ipython3",
   "version": "3.8.10"
  }
 },
 "nbformat": 4,
 "nbformat_minor": 5
}

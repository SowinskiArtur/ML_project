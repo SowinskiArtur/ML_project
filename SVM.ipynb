{
 "cells": [
  {
   "cell_type": "code",
   "execution_count": 26,
   "id": "ba2cfc39",
   "metadata": {},
   "outputs": [],
   "source": [
    "import pandas as pd\n",
    "import numpy as np\n",
    "import pickle\n",
    "from sklearn.metrics import average_precision_score\n",
    "from sklearn.model_selection import KFold, StratifiedKFold\n",
    "from sklearn import svm"
   ]
  },
  {
   "cell_type": "code",
   "execution_count": 27,
   "id": "03e2ab6f",
   "metadata": {},
   "outputs": [],
   "source": [
    "#wczytujemy wcześniej przygotowany zbiór\n",
    "\n",
    "df=pd.read_excel(\"dumm_credit_card_data.xlsx\",index_col=\"ID\")\n",
    "\n",
    "#zmienne objaśniające\n",
    "features=pd.concat([df.loc[:,:\"PAY_AMT6\"],df.loc[:,\"SEX_2\":]],axis=1).columns.tolist()"
   ]
  },
  {
   "cell_type": "code",
   "execution_count": 28,
   "id": "754fa1ae",
   "metadata": {},
   "outputs": [],
   "source": [
    "def CV_SVM(df=df,n_splits=5,random_state=111,features=features,sample_size=3000,probability=True,*args,**kwargs):\n",
    "    test_precisions=[]\n",
    "    probs=[] \n",
    "    indices=[]\n",
    "    skf=StratifiedKFold(n_splits=n_splits,shuffle=True,random_state=random_state)\n",
    "    for train,test in skf.split(df[features],df.y):\n",
    "        model=svm.SVC(probability=probability,*args,**kwargs,random_state=random_state)\n",
    "        df2=df.iloc[train].sample(sample_size,random_state=random_state)\n",
    "        model.fit(df2[features],df2.y)\n",
    "        preds=model.predict_proba(df.iloc[test][features])[:,1].tolist()\n",
    "        probs.append(preds)\n",
    "        indices.append(test.tolist())\n",
    "        test_precisions.append(average_precision_score(df.iloc[test].y,preds))\n",
    "    return test_precisions, probs, indices"
   ]
  },
  {
   "cell_type": "code",
   "execution_count": 29,
   "id": "e3a48171",
   "metadata": {},
   "outputs": [],
   "source": [
    "#sprawdźmy czy lepszy wynik uzyskamy używając standaryzacji na przedziale [0,1] czy z-score"
   ]
  },
  {
   "cell_type": "code",
   "execution_count": 30,
   "id": "84fef695",
   "metadata": {},
   "outputs": [],
   "source": [
    "def stand(features,df,valid,function=lambda x: (x-np.min(x))/(np.max(x)-np.min(x))):\n",
    "    df2=df.copy()\n",
    "    df2[features]=df2[features].apply(function)\n",
    "    test_precisions, probs, indices=valid(df=df2)\n",
    "    print(np.mean(test_precisions))"
   ]
  },
  {
   "cell_type": "code",
   "execution_count": 57,
   "id": "c651ad28",
   "metadata": {},
   "outputs": [],
   "source": [
    "features_st=['LIMIT_BAL',\"AGE\"]\n",
    "features_st.extend(df.loc[:,\"BILL_AMT1\":\"PAY_AMT6\"].columns.tolist())"
   ]
  },
  {
   "cell_type": "code",
   "execution_count": 62,
   "id": "34c88579",
   "metadata": {},
   "outputs": [
    {
     "name": "stdout",
     "output_type": "stream",
     "text": [
      "0.8565581897480026\n"
     ]
    }
   ],
   "source": [
    "stand(features=features_st,df=df,valid=CV_SVM)"
   ]
  },
  {
   "cell_type": "code",
   "execution_count": 63,
   "id": "98bd0a84",
   "metadata": {},
   "outputs": [
    {
     "name": "stdout",
     "output_type": "stream",
     "text": [
      "0.8663024196379311\n"
     ]
    }
   ],
   "source": [
    "stand(features=features_st,df=df,valid=CV_SVM,function=lambda x: (x-np.mean(x))/np.std(x))"
   ]
  },
  {
   "cell_type": "code",
   "execution_count": 64,
   "id": "e332ea9c",
   "metadata": {},
   "outputs": [],
   "source": [
    "#lepszy wynik dla z-score\n",
    "df[features_st]=df[features_st].apply(lambda x: (x-np.mean(x))/np.std(x))"
   ]
  },
  {
   "cell_type": "code",
   "execution_count": 68,
   "id": "70197ad3",
   "metadata": {},
   "outputs": [
    {
     "name": "stdout",
     "output_type": "stream",
     "text": [
      "C=0.01 kernel=linear precision=0.8669406617783733\n",
      "C=0.1 kernel=linear precision=0.8679415202633942\n",
      "C=0.25 kernel=linear precision=0.867772396315664\n",
      "C=0.5 kernel=linear precision=0.8679335479252963\n",
      "C=1 kernel=linear precision=0.8682913964024752\n",
      "C=2 kernel=linear precision=0.8667646425892329\n",
      "C=0.01 kernel=poly degree=2 precision=0.8570940819853717\n",
      "C=0.01 kernel=poly degree=3 precision=0.8563799261864453\n",
      "C=0.01 kernel=poly degree=4 precision=0.8501220328839665\n",
      "C=0.01 kernel=poly degree=5 precision=0.8421273494078282\n",
      "C=0.1 kernel=poly degree=2 precision=0.8607142199555398\n",
      "C=0.1 kernel=poly degree=3 precision=0.8566714203692898\n",
      "C=0.1 kernel=poly degree=4 precision=0.8484547475630118\n",
      "C=0.1 kernel=poly degree=5 precision=0.8441432819396504\n",
      "C=0.25 kernel=poly degree=2 precision=0.8630510618116876\n",
      "C=0.25 kernel=poly degree=3 precision=0.8570600911846047\n",
      "C=0.25 kernel=poly degree=4 precision=0.8505354202278392\n",
      "C=0.25 kernel=poly degree=5 precision=0.8443614121534786\n",
      "C=0.5 kernel=poly degree=2 precision=0.8645820729342676\n",
      "C=0.5 kernel=poly degree=3 precision=0.857060313587867\n",
      "C=0.5 kernel=poly degree=4 precision=0.8513996144583962\n",
      "C=0.5 kernel=poly degree=5 precision=0.84550479654006\n",
      "C=1 kernel=poly degree=2 precision=0.8655121151834304\n",
      "C=1 kernel=poly degree=3 precision=0.8589278188947761\n",
      "C=1 kernel=poly degree=4 precision=0.8517230829368618\n",
      "C=1 kernel=poly degree=5 precision=0.8456242940346387\n",
      "C=2 kernel=poly degree=2 precision=0.8648537673918106\n",
      "C=2 kernel=poly degree=3 precision=0.8594307704910861\n",
      "C=2 kernel=poly degree=4 precision=0.85155335817705\n",
      "C=2 kernel=poly degree=5 precision=0.843076145496753\n",
      "C=5 kernel=poly degree=2 precision=0.8642979242634908\n",
      "C=5 kernel=poly degree=3 precision=0.8596773618901532\n",
      "C=5 kernel=poly degree=4 precision=0.8517525969011679\n",
      "C=5 kernel=poly degree=5 precision=0.8090135728778718\n",
      "C=10 kernel=poly degree=2 precision=0.8664447043452876\n",
      "C=10 kernel=poly degree=3 precision=0.8580282149788193\n",
      "C=10 kernel=poly degree=4 precision=0.8494851068685989\n",
      "C=10 kernel=poly degree=5 precision=0.8074644151629586\n",
      "C=25 kernel=poly degree=2 precision=0.8678392023894906\n",
      "C=25 kernel=poly degree=3 precision=0.8580459141273392\n",
      "C=25 kernel=poly degree=4 precision=0.8143647320846668\n",
      "C=25 kernel=poly degree=5 precision=0.8037466178470865\n",
      "C=50 kernel=poly degree=2 precision=0.8690922376421589\n",
      "C=50 kernel=poly degree=3 precision=0.8557338323578595\n",
      "C=50 kernel=poly degree=4 precision=0.8112765551089195\n",
      "C=50 kernel=poly degree=5 precision=0.8012612288015752\n",
      "C=100 kernel=poly degree=2 precision=0.8701397488054894\n",
      "C=100 kernel=poly degree=3 precision=0.8536326565021307\n",
      "C=100 kernel=poly degree=4 precision=0.8083313773405758\n",
      "C=100 kernel=poly degree=5 precision=0.7991899598959661\n",
      "C=0.01 kernel=rbf gamma=0.1 precision=0.8681537822538473\n",
      "C=0.01 kernel=rbf gamma=1 precision=0.85330372044209\n",
      "C=0.01 kernel=rbf gamma=10 precision=0.8258484894915992\n",
      "C=0.01 kernel=rbf gamma=scale precision=0.8633563879964308\n",
      "C=0.1 kernel=rbf gamma=0.1 precision=0.8682499757334261\n",
      "C=0.1 kernel=rbf gamma=1 precision=0.8536619355137051\n",
      "C=0.1 kernel=rbf gamma=10 precision=0.8266166808300859\n",
      "C=0.1 kernel=rbf gamma=scale precision=0.8631586623564683\n",
      "C=0.25 kernel=rbf gamma=0.1 precision=0.8677105436935323\n",
      "C=0.25 kernel=rbf gamma=1 precision=0.853713063243999\n",
      "C=0.25 kernel=rbf gamma=10 precision=0.8269628747538207\n",
      "C=0.25 kernel=rbf gamma=scale precision=0.8639978329619169\n",
      "C=0.5 kernel=rbf gamma=0.1 precision=0.867112124598983\n",
      "C=0.5 kernel=rbf gamma=1 precision=0.8537151318224593\n",
      "C=0.5 kernel=rbf gamma=10 precision=0.8269798731870743\n",
      "C=0.5 kernel=rbf gamma=scale precision=0.8642936388062263\n",
      "C=1 kernel=rbf gamma=0.1 precision=0.8678908682859404\n",
      "C=1 kernel=rbf gamma=1 precision=0.8535694142502559\n",
      "C=1 kernel=rbf gamma=10 precision=0.826985741962376\n",
      "C=1 kernel=rbf gamma=scale precision=0.8663024196379311\n",
      "C=2 kernel=rbf gamma=0.1 precision=0.8658029024600573\n",
      "C=2 kernel=rbf gamma=1 precision=0.8514126196002326\n",
      "C=2 kernel=rbf gamma=10 precision=0.8268589757386448\n",
      "C=2 kernel=rbf gamma=scale precision=0.8698191548395382\n",
      "C=5 kernel=rbf gamma=0.1 precision=0.861230962153501\n",
      "C=5 kernel=rbf gamma=1 precision=0.848761767466371\n",
      "C=5 kernel=rbf gamma=10 precision=0.8266352376570584\n",
      "C=5 kernel=rbf gamma=scale precision=0.8714827566457055\n",
      "C=10 kernel=rbf gamma=0.1 precision=0.8572548089670876\n",
      "C=10 kernel=rbf gamma=1 precision=0.8470930681551815\n",
      "C=10 kernel=rbf gamma=10 precision=0.8265414904281105\n",
      "C=10 kernel=rbf gamma=scale precision=0.8714850664708397\n",
      "C=25 kernel=rbf gamma=0.1 precision=0.8536225142414364\n",
      "C=25 kernel=rbf gamma=1 precision=0.845859599019206\n",
      "C=25 kernel=rbf gamma=10 precision=0.8265864306095365\n",
      "C=25 kernel=rbf gamma=scale precision=0.8680635420880265\n",
      "C=50 kernel=rbf gamma=0.1 precision=0.851924720235432\n",
      "C=50 kernel=rbf gamma=1 precision=0.8437800839512457\n",
      "C=50 kernel=rbf gamma=10 precision=0.8264509690719338\n",
      "C=50 kernel=rbf gamma=scale precision=0.8632775608860259\n",
      "C=100 kernel=rbf gamma=0.1 precision=0.8513680867756349\n",
      "C=100 kernel=rbf gamma=1 precision=0.8423700732720711\n",
      "C=100 kernel=rbf gamma=10 precision=0.8264509690719338\n",
      "C=100 kernel=rbf gamma=scale precision=0.8580878996721626\n"
     ]
    }
   ],
   "source": [
    "#tuning hiperparametrów\n",
    "results=[]\n",
    "for kernel in ['linear','poly','rbf']:\n",
    "    for C in [0.01,0.1,0.25,0.5,1,2,5,10,25,50,100]:\n",
    "        if kernel=='poly':\n",
    "            for degree in [2,3,4,5]:\n",
    "                test_precisions, probs, indices=CV_SVM(degree=degree,C=C,kernel=kernel)\n",
    "                print(f'C={C} kernel={kernel} degree={degree} precision=',np.mean(test_precisions),sep='')\n",
    "                results.append((C,kernel,degree,np.mean(test_precisions)))\n",
    "        elif kernel=='rbf':\n",
    "            for gamma in [0.1,1,10,'scale']:\n",
    "                test_precisions, probs, indices=CV_SVM(gamma=gamma,C=C,kernel=kernel)\n",
    "                print(f'C={C} kernel={kernel} gamma={gamma} precision=',np.mean(test_precisions),sep='')\n",
    "                results.append((C,kernel,gamma,np.mean(test_precisions)))\n",
    "        else:\n",
    "            #pomijamy C>2 dla kernela liniowego z uwagi na długi czas uczenia algorytmu\n",
    "            if C>2:\n",
    "                continue\n",
    "            test_precisions, probs, indices=CV_SVM(C=C,kernel=kernel)\n",
    "            print(f'C={C} kernel={kernel} precision=',np.mean(test_precisions),sep='')\n",
    "            results.append((C,kernel,np.mean(test_precisions)))\n",
    "                "
   ]
  },
  {
   "cell_type": "code",
   "execution_count": 70,
   "id": "39140739",
   "metadata": {},
   "outputs": [
    {
     "name": "stdout",
     "output_type": "stream",
     "text": [
      "5 0.8662554632943825\n",
      "10 0.8660178906535153\n"
     ]
    }
   ],
   "source": [
    "#dla kernela liniowego i C większego od 5 podzieliłem próbki na mniejsze części z uwagi na bardzo długi czas uczenia algorytmu\n",
    "for C in [5,10]:\n",
    "    means=[]\n",
    "    for k in range(3): \n",
    "        test_precisions, probs, indices=CV_SVM(C=C,kernel='linear',sample_size=1000)\n",
    "        means.append(np.mean(test_precisions))          \n",
    "    print(C,np.mean(means))\n",
    "#widać, że wyniki dla tych C nie są lepsze niż w przypadku C<=2"
   ]
  },
  {
   "cell_type": "code",
   "execution_count": 71,
   "id": "1db84c45",
   "metadata": {},
   "outputs": [
    {
     "data": {
      "text/plain": [
       "[(10, 'rbf', 'scale', 0.8714850664708397),\n",
       " (5, 'rbf', 'scale', 0.8714827566457055),\n",
       " (100, 'poly', 2, 0.8701397488054894),\n",
       " (2, 'rbf', 'scale', 0.8698191548395382),\n",
       " (50, 'poly', 2, 0.8690922376421589),\n",
       " (1, 'linear', 0.8682913964024752),\n",
       " (0.1, 'rbf', 0.1, 0.8682499757334261),\n",
       " (0.01, 'rbf', 0.1, 0.8681537822538473),\n",
       " (25, 'rbf', 'scale', 0.8680635420880265),\n",
       " (0.1, 'linear', 0.8679415202633942),\n",
       " (0.5, 'linear', 0.8679335479252963),\n",
       " (1, 'rbf', 0.1, 0.8678908682859404),\n",
       " (25, 'poly', 2, 0.8678392023894906),\n",
       " (0.25, 'linear', 0.867772396315664),\n",
       " (0.25, 'rbf', 0.1, 0.8677105436935323),\n",
       " (0.5, 'rbf', 0.1, 0.867112124598983),\n",
       " (0.01, 'linear', 0.8669406617783733),\n",
       " (2, 'linear', 0.8667646425892329),\n",
       " (10, 'poly', 2, 0.8664447043452876),\n",
       " (1, 'rbf', 'scale', 0.8663024196379311),\n",
       " (2, 'rbf', 0.1, 0.8658029024600573),\n",
       " (1, 'poly', 2, 0.8655121151834304),\n",
       " (2, 'poly', 2, 0.8648537673918106),\n",
       " (0.5, 'poly', 2, 0.8645820729342676),\n",
       " (5, 'poly', 2, 0.8642979242634908),\n",
       " (0.5, 'rbf', 'scale', 0.8642936388062263),\n",
       " (0.25, 'rbf', 'scale', 0.8639978329619169),\n",
       " (0.01, 'rbf', 'scale', 0.8633563879964308),\n",
       " (50, 'rbf', 'scale', 0.8632775608860259),\n",
       " (0.1, 'rbf', 'scale', 0.8631586623564683),\n",
       " (0.25, 'poly', 2, 0.8630510618116876),\n",
       " (5, 'rbf', 0.1, 0.861230962153501),\n",
       " (0.1, 'poly', 2, 0.8607142199555398),\n",
       " (5, 'poly', 3, 0.8596773618901532),\n",
       " (2, 'poly', 3, 0.8594307704910861),\n",
       " (1, 'poly', 3, 0.8589278188947761),\n",
       " (100, 'rbf', 'scale', 0.8580878996721626),\n",
       " (25, 'poly', 3, 0.8580459141273392),\n",
       " (10, 'poly', 3, 0.8580282149788193),\n",
       " (10, 'rbf', 0.1, 0.8572548089670876),\n",
       " (0.01, 'poly', 2, 0.8570940819853717),\n",
       " (0.5, 'poly', 3, 0.857060313587867),\n",
       " (0.25, 'poly', 3, 0.8570600911846047),\n",
       " (0.1, 'poly', 3, 0.8566714203692898),\n",
       " (0.01, 'poly', 3, 0.8563799261864453),\n",
       " (50, 'poly', 3, 0.8557338323578595),\n",
       " (0.5, 'rbf', 1, 0.8537151318224593),\n",
       " (0.25, 'rbf', 1, 0.853713063243999),\n",
       " (0.1, 'rbf', 1, 0.8536619355137051),\n",
       " (100, 'poly', 3, 0.8536326565021307),\n",
       " (25, 'rbf', 0.1, 0.8536225142414364),\n",
       " (1, 'rbf', 1, 0.8535694142502559),\n",
       " (0.01, 'rbf', 1, 0.85330372044209),\n",
       " (50, 'rbf', 0.1, 0.851924720235432),\n",
       " (5, 'poly', 4, 0.8517525969011679),\n",
       " (1, 'poly', 4, 0.8517230829368618),\n",
       " (2, 'poly', 4, 0.85155335817705),\n",
       " (2, 'rbf', 1, 0.8514126196002326),\n",
       " (0.5, 'poly', 4, 0.8513996144583962),\n",
       " (100, 'rbf', 0.1, 0.8513680867756349),\n",
       " (0.25, 'poly', 4, 0.8505354202278392),\n",
       " (0.01, 'poly', 4, 0.8501220328839665),\n",
       " (10, 'poly', 4, 0.8494851068685989),\n",
       " (5, 'rbf', 1, 0.848761767466371),\n",
       " (0.1, 'poly', 4, 0.8484547475630118),\n",
       " (10, 'rbf', 1, 0.8470930681551815),\n",
       " (25, 'rbf', 1, 0.845859599019206),\n",
       " (1, 'poly', 5, 0.8456242940346387),\n",
       " (0.5, 'poly', 5, 0.84550479654006),\n",
       " (0.25, 'poly', 5, 0.8443614121534786),\n",
       " (0.1, 'poly', 5, 0.8441432819396504),\n",
       " (50, 'rbf', 1, 0.8437800839512457),\n",
       " (2, 'poly', 5, 0.843076145496753),\n",
       " (100, 'rbf', 1, 0.8423700732720711),\n",
       " (0.01, 'poly', 5, 0.8421273494078282),\n",
       " (1, 'rbf', 10, 0.826985741962376),\n",
       " (0.5, 'rbf', 10, 0.8269798731870743),\n",
       " (0.25, 'rbf', 10, 0.8269628747538207),\n",
       " (2, 'rbf', 10, 0.8268589757386448),\n",
       " (5, 'rbf', 10, 0.8266352376570584),\n",
       " (0.1, 'rbf', 10, 0.8266166808300859),\n",
       " (25, 'rbf', 10, 0.8265864306095365),\n",
       " (10, 'rbf', 10, 0.8265414904281105),\n",
       " (50, 'rbf', 10, 0.8264509690719338),\n",
       " (100, 'rbf', 10, 0.8264509690719338),\n",
       " (0.01, 'rbf', 10, 0.8258484894915992),\n",
       " (25, 'poly', 4, 0.8143647320846668),\n",
       " (50, 'poly', 4, 0.8112765551089195),\n",
       " (5, 'poly', 5, 0.8090135728778718),\n",
       " (100, 'poly', 4, 0.8083313773405758),\n",
       " (10, 'poly', 5, 0.8074644151629586),\n",
       " (25, 'poly', 5, 0.8037466178470865),\n",
       " (50, 'poly', 5, 0.8012612288015752),\n",
       " (100, 'poly', 5, 0.7991899598959661)]"
      ]
     },
     "execution_count": 71,
     "metadata": {},
     "output_type": "execute_result"
    }
   ],
   "source": [
    "results.sort(key=lambda x: x[-1],reverse=True)\n",
    "results"
   ]
  },
  {
   "cell_type": "code",
   "execution_count": 19,
   "id": "b9bda07e",
   "metadata": {},
   "outputs": [],
   "source": [
    "#najlepszy model to C=10, kernel=rbf i gamma=scale\n",
    "#sprobujmy dodac kwadrat zmiennej wiek\n",
    "\n",
    "features2=features.copy()\n",
    "features2.append(\"AGE_SQ\")"
   ]
  },
  {
   "cell_type": "code",
   "execution_count": 80,
   "id": "6ba7d062",
   "metadata": {},
   "outputs": [],
   "source": [
    "df['AGE_SQ']=df[['AGE_SQ']].apply(lambda x: (x-np.mean(x))/np.std(x))"
   ]
  },
  {
   "cell_type": "code",
   "execution_count": 81,
   "id": "6c03da72",
   "metadata": {},
   "outputs": [
    {
     "name": "stdout",
     "output_type": "stream",
     "text": [
      "0.8711982471062214\n"
     ]
    }
   ],
   "source": [
    "test_precisions, probs, indices=CV_SVM(features=features2,C=10)\n",
    "precis=np.mean(test_precisions)\n",
    "print(precis)\n",
    "#pograsza model"
   ]
  },
  {
   "cell_type": "code",
   "execution_count": 88,
   "id": "04904e95",
   "metadata": {},
   "outputs": [
    {
     "name": "stdout",
     "output_type": "stream",
     "text": [
      "LIMIT_BAL 0.7818686434841873\n",
      "AGE 0.779362330803987\n",
      "PAY_0 0.8570841796140922\n",
      "PAY_2 0.8297367559524845\n",
      "PAY_3 0.8049868066444844\n",
      "PAY_4 0.8162245140910592\n",
      "PAY_5 0.8151182759925121\n",
      "PAY_6 0.8038316729115691\n",
      "BILL_AMT1 0.7724281595981941\n",
      "BILL_AMT2 0.7729490208969994\n",
      "BILL_AMT3 0.773131947428323\n",
      "BILL_AMT4 0.7755084076958074\n",
      "BILL_AMT5 0.7803020896375114\n",
      "BILL_AMT6 0.7772175883842036\n",
      "PAY_AMT1 0.7652197656654895\n",
      "PAY_AMT2 0.8108092350327929\n",
      "PAY_AMT3 0.7614783975772829\n",
      "PAY_AMT4 0.7829707104834549\n",
      "PAY_AMT5 0.7702591445407172\n",
      "PAY_AMT6 0.7944881612592051\n",
      "SEX_2 0.78073190264039\n",
      "EDUCATION_1 0.7748327009832986\n",
      "EDUCATION_2 0.7730198809288671\n",
      "EDUCATION_3 0.7764638273310605\n",
      "EDUCATION_4 0.7788000000000002\n",
      "EDUCATION_5 0.7788000000000002\n",
      "EDUCATION_6 0.7788000000000002\n",
      "MARRIAGE_1 0.7775619206910973\n",
      "MARRIAGE_2 0.7782491414271528\n",
      "MARRIAGE_3 0.7788000000000002\n"
     ]
    }
   ],
   "source": [
    "#następnym krokiem będzie sprawdzenie, która zmienna prognozuje najlepiej\n",
    "results=[]\n",
    "for feature in features:\n",
    "    test_precisions, probs, indices=CV_SVM(features=[feature],C=10)\n",
    "    print(feature,np.mean(test_precisions))\n",
    "    results.append((feature,np.mean(test_precisions)))"
   ]
  },
  {
   "cell_type": "code",
   "execution_count": 89,
   "id": "242258be",
   "metadata": {},
   "outputs": [
    {
     "data": {
      "text/plain": [
       "[('PAY_AMT3', 0.7614783975772829),\n",
       " ('PAY_AMT1', 0.7652197656654895),\n",
       " ('PAY_AMT5', 0.7702591445407172),\n",
       " ('BILL_AMT1', 0.7724281595981941),\n",
       " ('BILL_AMT2', 0.7729490208969994),\n",
       " ('EDUCATION_2', 0.7730198809288671),\n",
       " ('BILL_AMT3', 0.773131947428323),\n",
       " ('EDUCATION_1', 0.7748327009832986),\n",
       " ('BILL_AMT4', 0.7755084076958074),\n",
       " ('EDUCATION_3', 0.7764638273310605),\n",
       " ('BILL_AMT6', 0.7772175883842036),\n",
       " ('MARRIAGE_1', 0.7775619206910973),\n",
       " ('MARRIAGE_2', 0.7782491414271528),\n",
       " ('EDUCATION_4', 0.7788000000000002),\n",
       " ('EDUCATION_5', 0.7788000000000002),\n",
       " ('EDUCATION_6', 0.7788000000000002),\n",
       " ('MARRIAGE_3', 0.7788000000000002),\n",
       " ('AGE', 0.779362330803987),\n",
       " ('BILL_AMT5', 0.7803020896375114),\n",
       " ('SEX_2', 0.78073190264039),\n",
       " ('LIMIT_BAL', 0.7818686434841873),\n",
       " ('PAY_AMT4', 0.7829707104834549),\n",
       " ('PAY_AMT6', 0.7944881612592051),\n",
       " ('PAY_6', 0.8038316729115691),\n",
       " ('PAY_3', 0.8049868066444844),\n",
       " ('PAY_AMT2', 0.8108092350327929),\n",
       " ('PAY_5', 0.8151182759925121),\n",
       " ('PAY_4', 0.8162245140910592),\n",
       " ('PAY_2', 0.8297367559524845),\n",
       " ('PAY_0', 0.8570841796140922)]"
      ]
     },
     "execution_count": 89,
     "metadata": {},
     "output_type": "execute_result"
    }
   ],
   "source": [
    "results.sort(key=lambda x: x[-1])\n",
    "results"
   ]
  },
  {
   "cell_type": "code",
   "execution_count": 94,
   "id": "92450742",
   "metadata": {},
   "outputs": [
    {
     "name": "stdout",
     "output_type": "stream",
     "text": [
      "0.8714850664708397\n"
     ]
    }
   ],
   "source": [
    "test_precisions, probs, indices=CV_SVM(C=10)\n",
    "precis=np.mean(test_precisions)\n",
    "print(precis)"
   ]
  },
  {
   "cell_type": "code",
   "execution_count": 95,
   "id": "11d30a8a",
   "metadata": {},
   "outputs": [
    {
     "name": "stdout",
     "output_type": "stream",
     "text": [
      "PAY_AMT3 0.871900520466055\n",
      "PAY_AMT1 0.8723320394712841\n",
      "Brak poprawy\n"
     ]
    }
   ],
   "source": [
    "#sprawdzmy jaki wynik da wyrzucanie najgorzej przewidujacych zmiennych\n",
    "for result in results:\n",
    "    features2=features.copy()\n",
    "    features2.remove(result[0])\n",
    "    test_precisions, probs, indices=CV_SVM(features=features2,C=10)\n",
    "    precis2=np.mean(test_precisions)\n",
    "    if precis2>precis:\n",
    "        print(result[0],precis2)\n",
    "        precis=precis2\n",
    "        features=features2.copy()\n",
    "    else:\n",
    "        print('Brak poprawy')\n",
    "        break"
   ]
  },
  {
   "cell_type": "code",
   "execution_count": 120,
   "id": "66553e1d",
   "metadata": {},
   "outputs": [],
   "source": [
    "def grupowanie(df,columns,new_column,valid,function,features,precision,stand=False,*args,**kwargs):\n",
    "    df2=df.copy()\n",
    "    df2[new_column]=df[columns].apply(function,axis=1)\n",
    "    df2.drop(columns,axis=1,inplace=True)\n",
    "    features2=features.copy()\n",
    "    for i in columns:\n",
    "        features2.remove(i)\n",
    "    features2.append(new_column)\n",
    "    if stand:\n",
    "        df2[new_column]=df2[[new_column]].apply(lambda x: (x-np.mean(x))/np.std(x))\n",
    "    prec=np.mean(valid(df=df2,features=features2,*args,**kwargs)[0])\n",
    "    print(prec)\n",
    "    if prec>precision:\n",
    "        print('Poprawa modelu')\n",
    "        df[new_column]=df2[new_column]\n",
    "        for i in columns:\n",
    "            features.remove(i)\n",
    "        features.append(new_column)\n",
    "    else:\n",
    "        print('Brak poprawy modelu')"
   ]
  },
  {
   "cell_type": "code",
   "execution_count": 121,
   "id": "07bc5222",
   "metadata": {
    "scrolled": true
   },
   "outputs": [
    {
     "name": "stdout",
     "output_type": "stream",
     "text": [
      "0.8722494911869759\n",
      "Brak poprawy modelu\n"
     ]
    }
   ],
   "source": [
    "#identyczny wynik dla zmiennych education_4-6\n",
    "#sprobuje polaczyc te zmienne\n",
    "cols=df.loc[:,'EDUCATION_4':'EDUCATION_6'].columns.tolist()\n",
    "\n",
    "\n",
    "grupowanie(df,columns=cols,new_column='EDUC4_6',valid=CV_SVM,function=sum,features=features,\n",
    "          precision=precis,C=10)"
   ]
  },
  {
   "cell_type": "code",
   "execution_count": 122,
   "id": "913d841d",
   "metadata": {},
   "outputs": [
    {
     "name": "stdout",
     "output_type": "stream",
     "text": [
      "0.8714850664708397\n"
     ]
    }
   ],
   "source": [
    "test_precisions, probs, indices=CV_SVM(C=10)\n",
    "precis=np.mean(test_precisions)\n",
    "print(precis)"
   ]
  },
  {
   "cell_type": "code",
   "execution_count": 124,
   "id": "147377bd",
   "metadata": {},
   "outputs": [],
   "source": [
    "def create_probs_series(probs,indices):\n",
    "    probs=sum(probs,[])\n",
    "    indices=sum(indices,[])\n",
    "    probs=pd.Series(probs,index=indices).sort_index()\n",
    "    probs.index=range(1,30001)\n",
    "    return probs"
   ]
  },
  {
   "cell_type": "code",
   "execution_count": 125,
   "id": "72c1cb19",
   "metadata": {},
   "outputs": [],
   "source": [
    "probs=create_probs_series(probs,indices)"
   ]
  },
  {
   "cell_type": "code",
   "execution_count": 126,
   "id": "098f0518",
   "metadata": {},
   "outputs": [],
   "source": [
    "modelSVM = {\n",
    "    \"nazwa\":\"SVM\",\n",
    "    \"opis\":\"Model SVM, kernel rbf, C=10\",\n",
    "    \"specyfikacja\":{'kernel':\"rbf\", 'C':10, 'features':features.copy(),'df':df.copy()},\n",
    "    \"precyzja\":precis,\n",
    "    \"predykcje\":probs.copy(),\n",
    "    }"
   ]
  },
  {
   "cell_type": "code",
   "execution_count": 127,
   "id": "2fe0ec32",
   "metadata": {},
   "outputs": [],
   "source": [
    "#zapisujemy model\n",
    "\n",
    "with open('ML_SVM.p','wb') as fp:\n",
    "    pickle.dump(modelSVM,fp)"
   ]
  }
 ],
 "metadata": {
  "kernelspec": {
   "display_name": "Python 3.8 (tensorflow)",
   "language": "python",
   "name": "tensorflow"
  }
 },
 "nbformat": 4,
 "nbformat_minor": 5
}

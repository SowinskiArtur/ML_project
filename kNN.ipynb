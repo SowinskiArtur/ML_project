{
 "cells": [
  {
   "cell_type": "code",
   "execution_count": 128,
   "id": "e5d922cd",
   "metadata": {},
   "outputs": [],
   "source": [
    "import pandas as pd\n",
    "import numpy as np\n",
    "import pickle\n",
    "from sklearn.metrics import average_precision_score\n",
    "from sklearn.model_selection import KFold, StratifiedKFold\n",
    "from sklearn import neighbors"
   ]
  },
  {
   "cell_type": "code",
   "execution_count": 129,
   "id": "92635eb0",
   "metadata": {},
   "outputs": [],
   "source": [
    "df=pd.read_excel(\"dumm_credit_card_data.xlsx\",index_col=\"ID\")\n",
    "\n",
    "features=pd.concat([df.loc[:,:\"PAY_AMT6\"],df.loc[:,\"SEX_2\":]],axis=1).columns.tolist()"
   ]
  },
  {
   "cell_type": "code",
   "execution_count": 130,
   "id": "3196a4a5",
   "metadata": {},
   "outputs": [],
   "source": [
    "def CV_kNN(n_jobs=-1,df=df,n_splits=5,random_state=111,features=features,*args,**kwargs):\n",
    "    test_precisions=[]\n",
    "    probs=[]\n",
    "    indices=[]\n",
    "    skf=StratifiedKFold(n_splits=n_splits,shuffle=True,random_state=random_state)\n",
    "    for train,test in skf.split(df[features],df.y):\n",
    "        model=neighbors.KNeighborsClassifier(*args,**kwargs,n_jobs=n_jobs)\n",
    "        model.fit(df.iloc[train][features],df.iloc[train].y)\n",
    "        preds=model.predict_proba(df.iloc[test][features])[:,1].tolist()\n",
    "        probs.append(preds)\n",
    "        indices.append(test.tolist())\n",
    "        test_precisions.append(average_precision_score(df.iloc[test].y,preds))\n",
    "    return test_precisions, probs, indices"
   ]
  },
  {
   "cell_type": "code",
   "execution_count": 131,
   "id": "ab97a3f0",
   "metadata": {},
   "outputs": [],
   "source": [
    "#sprawdźmy czy lepszy wynik uzyskamy używając standaryzacji na przedziale [0,1] czy z-score"
   ]
  },
  {
   "cell_type": "code",
   "execution_count": 132,
   "id": "801c2ee9",
   "metadata": {},
   "outputs": [],
   "source": [
    "def stand(features,df,valid,function=lambda x: (x-np.min(x))/(np.max(x)-np.min(x))):\n",
    "    df2=df.copy()\n",
    "    df2[features]=df2[features].apply(function)\n",
    "    test_precisions, probs, indices=valid(df=df2)\n",
    "    print(np.mean(test_precisions))"
   ]
  },
  {
   "cell_type": "code",
   "execution_count": 133,
   "id": "0f080ec4",
   "metadata": {},
   "outputs": [],
   "source": [
    "features_st=['LIMIT_BAL',\"AGE\"]\n",
    "features_st.extend(df.loc[:,\"BILL_AMT1\":\"PAY_AMT6\"].columns.tolist())"
   ]
  },
  {
   "cell_type": "code",
   "execution_count": 134,
   "id": "681e1fbb",
   "metadata": {},
   "outputs": [
    {
     "name": "stdout",
     "output_type": "stream",
     "text": [
      "0.8605121095035322\n"
     ]
    }
   ],
   "source": [
    "stand(features=features_st,df=df,valid=CV_kNN)"
   ]
  },
  {
   "cell_type": "code",
   "execution_count": 135,
   "id": "483468af",
   "metadata": {},
   "outputs": [
    {
     "name": "stdout",
     "output_type": "stream",
     "text": [
      "0.8598604834449978\n"
     ]
    }
   ],
   "source": [
    "stand(features=features_st,df=df,valid=CV_kNN,function=lambda x: (x-np.mean(x))/np.std(x))"
   ]
  },
  {
   "cell_type": "code",
   "execution_count": 136,
   "id": "d9fb2416",
   "metadata": {},
   "outputs": [],
   "source": [
    "#lepszy wynik dla standaryzacji na przedziale [0,1]\n",
    "df[features_st]=df[features_st].apply(lambda x: (x-np.min(x))/(np.max(x)-np.min(x)))"
   ]
  },
  {
   "cell_type": "code",
   "execution_count": 137,
   "id": "3f62d7a6",
   "metadata": {},
   "outputs": [
    {
     "name": "stdout",
     "output_type": "stream",
     "text": [
      "1 0.8189979646277475\n",
      "3 0.8483493781544797\n",
      "5 0.8605121095035322\n",
      "10 0.8747291102072972\n",
      "15 0.8817889587522704\n",
      "30 0.8900102255005363\n",
      "50 0.8942442855303268\n",
      "100 0.8982430449403436\n",
      "150 0.8994798063377429\n",
      "200 0.8994936841330954\n"
     ]
    }
   ],
   "source": [
    "#tuning hiperparametrow\n",
    "#optymalna liczba sasiadow\n",
    "for k in [1, 3, 5, 10, 15, 30, 50, 100, 150, 200]:\n",
    "    test_precisions, probs, indices=CV_kNN(n_neighbors=k)\n",
    "    print(k,np.mean(test_precisions))"
   ]
  },
  {
   "cell_type": "code",
   "execution_count": 138,
   "id": "b112263d",
   "metadata": {},
   "outputs": [
    {
     "name": "stdout",
     "output_type": "stream",
     "text": [
      "250 0.899770945036131\n",
      "300 0.899146413153941\n",
      "400 0.8987070830945989\n",
      "500 0.897387186474018\n"
     ]
    }
   ],
   "source": [
    "#sprawdzmy wieksza liczbe sasiadow\n",
    "for k in [250,300,400,500]:\n",
    "    test_precisions, probs, indices=CV_kNN(n_neighbors=k)\n",
    "    print(k,np.mean(test_precisions))"
   ]
  },
  {
   "cell_type": "code",
   "execution_count": 139,
   "id": "2e4012da",
   "metadata": {},
   "outputs": [
    {
     "data": {
      "text/plain": [
       "0.897663827609746"
      ]
     },
     "execution_count": 139,
     "metadata": {},
     "output_type": "execute_result"
    }
   ],
   "source": [
    "#najlepszy wynik dla 250 sasiadow\n",
    "#sprawdzmy czy nie lepszy wynik uzyskamy dla odleglosci miejskiej\n",
    "test_precisions, probs, indices=CV_kNN(p=1,n_neighbors=250)\n",
    "np.mean(test_precisions)\n",
    "#pogorszenie"
   ]
  },
  {
   "cell_type": "code",
   "execution_count": 141,
   "id": "99930719",
   "metadata": {},
   "outputs": [],
   "source": [
    "#sprobujmy dodac kwadrat zmiennej wiek\n",
    "\n",
    "features2=features.copy()\n",
    "features2.append(\"AGE_SQ\")"
   ]
  },
  {
   "cell_type": "code",
   "execution_count": 142,
   "id": "969bdb79",
   "metadata": {},
   "outputs": [],
   "source": [
    "df['AGE_SQ']=df[['AGE_SQ']].apply(lambda x: (x-np.min(x))/(np.max(x)-np.min(x)))"
   ]
  },
  {
   "cell_type": "code",
   "execution_count": 143,
   "id": "cb6e9cff",
   "metadata": {},
   "outputs": [
    {
     "data": {
      "text/plain": [
       "0.8991901942398423"
      ]
     },
     "execution_count": 143,
     "metadata": {},
     "output_type": "execute_result"
    }
   ],
   "source": [
    "test_precisions, probs, indices=CV_kNN(n_neighbors=250,features=features2)\n",
    "np.mean(test_precisions)"
   ]
  },
  {
   "cell_type": "code",
   "execution_count": 147,
   "id": "af75d044",
   "metadata": {},
   "outputs": [
    {
     "name": "stdout",
     "output_type": "stream",
     "text": [
      "LIMIT_BAL 0.8336091141619173\n",
      "AGE 0.7887607141142219\n",
      "PAY_0 0.8617613688330579\n",
      "PAY_2 0.836881975125656\n",
      "PAY_3 0.8277373765707796\n",
      "PAY_4 0.821034659334211\n",
      "PAY_5 0.8197006534637812\n",
      "PAY_6 0.813688879832305\n",
      "BILL_AMT1 0.7958301911412503\n",
      "BILL_AMT2 0.790620059023959\n",
      "BILL_AMT3 0.793279198935448\n",
      "BILL_AMT4 0.797234653949632\n",
      "BILL_AMT5 0.8012856335585656\n",
      "BILL_AMT6 0.7975279085980407\n",
      "PAY_AMT1 0.8367309886564769\n",
      "PAY_AMT2 0.8336876495744912\n",
      "PAY_AMT3 0.8293853816272378\n",
      "PAY_AMT4 0.8219662609640374\n",
      "PAY_AMT5 0.8216065688160767\n",
      "PAY_AMT6 0.8213784914087736\n",
      "SEX_2 0.7856940626576984\n",
      "EDUCATION_1 0.7893748584041311\n",
      "EDUCATION_2 0.7865111457559786\n",
      "EDUCATION_3 0.781704482850144\n",
      "EDUCATION_4 0.7796348153876094\n",
      "EDUCATION_5 0.7805720723581492\n",
      "EDUCATION_6 0.778745067974909\n",
      "MARRIAGE_1 0.7850437126840977\n",
      "MARRIAGE_2 0.7852393423091553\n",
      "MARRIAGE_3 0.7787730741669037\n"
     ]
    }
   ],
   "source": [
    "#brak poprawy\n",
    "\n",
    "#sprawdzmy ktora zmienna najlepiej prognozuje\n",
    "results=[]\n",
    "for feature in features:\n",
    "    test_precisions, probs, indices=CV_kNN(n_neighbors=250,features=[feature])\n",
    "    print(feature,np.mean(test_precisions))\n",
    "    results.append((feature,np.mean(test_precisions)))"
   ]
  },
  {
   "cell_type": "code",
   "execution_count": 148,
   "id": "2f974fc7",
   "metadata": {},
   "outputs": [
    {
     "data": {
      "text/plain": [
       "[('EDUCATION_6', 0.778745067974909),\n",
       " ('MARRIAGE_3', 0.7787730741669037),\n",
       " ('EDUCATION_4', 0.7796348153876094),\n",
       " ('EDUCATION_5', 0.7805720723581492),\n",
       " ('EDUCATION_3', 0.781704482850144),\n",
       " ('MARRIAGE_1', 0.7850437126840977),\n",
       " ('MARRIAGE_2', 0.7852393423091553),\n",
       " ('SEX_2', 0.7856940626576984),\n",
       " ('EDUCATION_2', 0.7865111457559786),\n",
       " ('AGE', 0.7887607141142219),\n",
       " ('EDUCATION_1', 0.7893748584041311),\n",
       " ('BILL_AMT2', 0.790620059023959),\n",
       " ('BILL_AMT3', 0.793279198935448),\n",
       " ('BILL_AMT1', 0.7958301911412503),\n",
       " ('BILL_AMT4', 0.797234653949632),\n",
       " ('BILL_AMT6', 0.7975279085980407),\n",
       " ('BILL_AMT5', 0.8012856335585656),\n",
       " ('PAY_6', 0.813688879832305),\n",
       " ('PAY_5', 0.8197006534637812),\n",
       " ('PAY_4', 0.821034659334211),\n",
       " ('PAY_AMT6', 0.8213784914087736),\n",
       " ('PAY_AMT5', 0.8216065688160767),\n",
       " ('PAY_AMT4', 0.8219662609640374),\n",
       " ('PAY_3', 0.8277373765707796),\n",
       " ('PAY_AMT3', 0.8293853816272378),\n",
       " ('LIMIT_BAL', 0.8336091141619173),\n",
       " ('PAY_AMT2', 0.8336876495744912),\n",
       " ('PAY_AMT1', 0.8367309886564769),\n",
       " ('PAY_2', 0.836881975125656),\n",
       " ('PAY_0', 0.8617613688330579)]"
      ]
     },
     "execution_count": 148,
     "metadata": {},
     "output_type": "execute_result"
    }
   ],
   "source": [
    "results.sort(key=lambda x: x[1])\n",
    "results"
   ]
  },
  {
   "cell_type": "code",
   "execution_count": 149,
   "id": "311daf0a",
   "metadata": {},
   "outputs": [],
   "source": [
    "#sprobujmy przemnozyc najgorzej prognozujaca zmienna zmienna przez stala mniejsza od 1 \n",
    "def feature_eng_kNN(consts=[0,0.1,0.25,0.5,0.75],feature_nr=0):\n",
    "    for k in consts:\n",
    "        df2=df.copy()\n",
    "        df2[results[feature_nr][0]]*=k\n",
    "        test_precisions, probs, indices=CV_kNN(df=df2,n_neighbors=250)\n",
    "        print(k,np.mean(test_precisions))"
   ]
  },
  {
   "cell_type": "code",
   "execution_count": 150,
   "id": "7806ee62",
   "metadata": {},
   "outputs": [
    {
     "name": "stdout",
     "output_type": "stream",
     "text": [
      "0 0.8997501925667131\n",
      "0.1 0.8997611128946966\n",
      "0.25 0.8997600493685001\n",
      "0.5 0.8997607607075748\n",
      "0.75 0.8997606926046867\n"
     ]
    }
   ],
   "source": [
    "feature_eng_kNN()"
   ]
  },
  {
   "cell_type": "code",
   "execution_count": 151,
   "id": "8244b575",
   "metadata": {},
   "outputs": [
    {
     "name": "stdout",
     "output_type": "stream",
     "text": [
      "1.2 0.8999110234153083\n",
      "1.5 0.9002100603675194\n",
      "1.75 0.9002797310677924\n",
      "2 0.9002331378781141\n",
      "2.5 0.9000480368999847\n",
      "3 0.8999872130351904\n",
      "3.5 0.8998688476062064\n",
      "4 0.8998360133587205\n",
      "5 0.8996942066915026\n",
      "6 0.8996459695735053\n",
      "7 0.8996237339938326\n"
     ]
    }
   ],
   "source": [
    "#brak poprawy\n",
    "#przemnozmy teraz najlepsza zmienna przez stala wieksza od 1\n",
    "\n",
    "feature_eng_kNN(consts=[1.2,1.5,1.75,2,2.5,3,3.5,4,5,6,7],feature_nr=-1)"
   ]
  },
  {
   "cell_type": "code",
   "execution_count": 153,
   "id": "a8eb5b57",
   "metadata": {},
   "outputs": [],
   "source": [
    "#lekka poprawa\n",
    "df[results[-1][0]]*=1.75"
   ]
  },
  {
   "cell_type": "code",
   "execution_count": 154,
   "id": "42f2b6ec",
   "metadata": {},
   "outputs": [
    {
     "name": "stdout",
     "output_type": "stream",
     "text": [
      "0.9002797310677924\n"
     ]
    }
   ],
   "source": [
    "#najlepszy model knn\n",
    "test_precisions, probs, indices=CV_kNN(df=df,features=features,n_neighbors=250)\n",
    "precis=np.mean(test_precisions)\n",
    "print(precis)"
   ]
  },
  {
   "cell_type": "code",
   "execution_count": null,
   "id": "a290dcb7",
   "metadata": {},
   "outputs": [],
   "source": [
    "#Tworzymy serie pandasa zawierającą predykcje\n",
    "def create_probs_series(probs,indices):\n",
    "    probs=sum(probs,[])\n",
    "    indices=sum(indices,[])\n",
    "    probs=pd.Series(probs,index=indices).sort_index()\n",
    "    probs.index=range(1,30001)\n",
    "    return probs"
   ]
  },
  {
   "cell_type": "code",
   "execution_count": null,
   "id": "f265c9cf",
   "metadata": {},
   "outputs": [],
   "source": [
    "probs=create_probs_series(probs,indices)"
   ]
  }
 ],
 "metadata": {
  "kernelspec": {
   "display_name": "Python 3.8 (tensorflow)",
   "language": "python",
   "name": "tensorflow"
  },
  "language_info": {
   "codemirror_mode": {
    "name": "ipython",
    "version": 3
   },
   "file_extension": ".py",
   "mimetype": "text/x-python",
   "name": "python",
   "nbconvert_exporter": "python",
   "pygments_lexer": "ipython3",
   "version": "3.8.10"
  }
 },
 "nbformat": 4,
 "nbformat_minor": 5
}

{
 "cells": [
  {
   "cell_type": "code",
   "execution_count": 34,
   "id": "78c3a92e",
   "metadata": {},
   "outputs": [],
   "source": [
    "import pandas as pd\n",
    "import numpy as np\n",
    "import pickle\n",
    "from sklearn.metrics import average_precision_score\n",
    "from sklearn.model_selection import KFold, StratifiedKFold\n",
    "from sklearn.ensemble import RandomForestClassifier\n",
    "from functions import create_probs_series, grupowanie, log_func"
   ]
  },
  {
   "cell_type": "code",
   "execution_count": 35,
   "id": "1247c86a",
   "metadata": {},
   "outputs": [],
   "source": [
    "#nastepny algorytm to Random Forest\n",
    "#w przypadku algorytmu RF zmiennych kategorycznych nie zamieniamy na zerojedynkowe\n",
    "#w przypadku naszego dfa nie ma potrzeby jednak uzywac label encodera, gdyz zmienne kategoryczne sa numeryczne\n",
    "#nie trzeba tez standaryzowac zmiennych\n",
    "\n",
    "df=pd.read_excel(\"credit_card_data.xlsx\",index_col=\"ID\")\n",
    "\n",
    "features=df.loc[:,:\"PAY_AMT6\"].columns.tolist()"
   ]
  },
  {
   "cell_type": "code",
   "execution_count": 36,
   "id": "69096676",
   "metadata": {},
   "outputs": [],
   "source": [
    "def CV_RF(n_splits=5,random_state=111,df=df,features=features,*args,**kwargs):\n",
    "    test_precisions=[]\n",
    "    probs=[]\n",
    "    indices=[]\n",
    "    skf=StratifiedKFold(n_splits=n_splits,shuffle=True,random_state=random_state)\n",
    "    for train,test in skf.split(df[features],df.y):\n",
    "        model=RandomForestClassifier(*args,**kwargs,random_state=random_state,n_jobs=-1)\n",
    "        model.fit(df.iloc[train][features],df.iloc[train].y)\n",
    "        preds=model.predict_proba(df.iloc[test][features])[:,1].tolist()\n",
    "        probs.append(preds)\n",
    "        indices.append(test.tolist())\n",
    "        test_precisions.append(average_precision_score(df.iloc[test].y,preds))\n",
    "    return test_precisions, probs, indices,model"
   ]
  },
  {
   "cell_type": "code",
   "execution_count": 37,
   "id": "1dbab3b3",
   "metadata": {},
   "outputs": [
    {
     "name": "stdout",
     "output_type": "stream",
     "text": [
      "0.9004257656947281\n"
     ]
    }
   ],
   "source": [
    "test_precisions, probs, indices,model=CV_RF()\n",
    "print(np.mean(test_precisions))"
   ]
  },
  {
   "cell_type": "code",
   "execution_count": 38,
   "id": "49176646",
   "metadata": {},
   "outputs": [
    {
     "name": "stdout",
     "output_type": "stream",
     "text": [
      "0.9021083047788444\n"
     ]
    }
   ],
   "source": [
    "#tak jak w przypadku pozostalych algorytmow sprawdze czy dodanie kwadratu wieku poprawi model\n",
    "\n",
    "features2=features.copy()\n",
    "features2.append(\"AGE_SQ\")\n",
    "\n",
    "test_precisions, probs, indices,model=CV_RF(features=features2)\n",
    "print(np.mean(test_precisions))"
   ]
  },
  {
   "cell_type": "code",
   "execution_count": 177,
   "id": "4c3ff857",
   "metadata": {},
   "outputs": [
    {
     "name": "stdout",
     "output_type": "stream",
     "text": [
      "0.9014185239198342\n"
     ]
    }
   ],
   "source": [
    "#przynioslo poprawe, teraz sprawdzmy czy dodanie kwadratu zmiennych PAY pomoze\n",
    "features=features2.copy()\n",
    "\n",
    "cols=df.loc[:,\"PAY_0_SQ\":\"PAY_6_SQ\"].columns.tolist()\n",
    "\n",
    "features2.extend(cols)\n",
    "\n",
    "test_precisions, probs, indices,model=CV_RF(features=features2)\n",
    "print(np.mean(test_precisions))\n",
    "#brak poprawy"
   ]
  },
  {
   "cell_type": "code",
   "execution_count": 178,
   "id": "1f90346e",
   "metadata": {},
   "outputs": [
    {
     "name": "stdout",
     "output_type": "stream",
     "text": [
      "2 0.9002889502419185\n",
      "4 0.9056945660488092\n",
      "6 0.9080375529620106\n",
      "8 0.9108686657172637\n",
      "10 0.9111354039426439\n",
      "12 0.9103582852274542\n",
      "14 0.909084336832821\n",
      "16 0.9083794364732736\n",
      "18 0.9077888807543953\n",
      "20 0.9047171478097595\n"
     ]
    }
   ],
   "source": [
    "#tuning hiperparametrów RF\n",
    "#dla przyspieszenia obliczen do tuningu hiperparametrow uzylem 50 estymatorow\n",
    "#optymalna maksymalna głębokość\n",
    "for k in range(2,22,2):\n",
    "    test_precisions, probs, indices,model=CV_RF(features=features,n_estimators=50,max_depth=k)\n",
    "    print(k,np.mean(test_precisions))"
   ]
  },
  {
   "cell_type": "code",
   "execution_count": 180,
   "id": "3fd5d0eb",
   "metadata": {},
   "outputs": [
    {
     "name": "stdout",
     "output_type": "stream",
     "text": [
      "3 0.9105286626601237\n",
      "4 0.9111354039426439\n",
      "5 0.9112926890453498\n",
      "6 0.9112164499675135\n",
      "7 0.9111559310725379\n",
      "8 0.9115306366321014\n",
      "9 0.911043669582677\n",
      "10 0.911364947223122\n"
     ]
    }
   ],
   "source": [
    "#optymalna maksymalna ilosc zmiennych uzywana przy trenowaniu algorytmu\n",
    "for k in range(3,11):\n",
    "    test_precisions, probs, indices,model=CV_RF(features=features,n_estimators=50,max_depth=10,max_features=k)\n",
    "    print(k,np.mean(test_precisions))"
   ]
  },
  {
   "cell_type": "code",
   "execution_count": 181,
   "id": "040c36c5",
   "metadata": {},
   "outputs": [
    {
     "name": "stdout",
     "output_type": "stream",
     "text": [
      "2 0.9115306366321014\n",
      "4 0.9114647858040336\n",
      "6 0.9109788889485785\n",
      "8 0.9118602395704292\n",
      "10 0.9122141251307154\n",
      "15 0.9117990969406821\n",
      "20 0.9114687022624107\n",
      "30 0.9115695769106296\n"
     ]
    }
   ],
   "source": [
    "#minimalna ilosc obserwacji przed podzialem\n",
    "for k in [2, 4, 6, 8, 10, 15, 20, 30]:\n",
    "    test_precisions, probs, indices,model=CV_RF(features=features,n_estimators=50,max_depth=10,max_features=8,min_samples_split=k)\n",
    "    print(k,np.mean(test_precisions))"
   ]
  },
  {
   "cell_type": "code",
   "execution_count": 182,
   "id": "802fe0a7",
   "metadata": {},
   "outputs": [
    {
     "name": "stdout",
     "output_type": "stream",
     "text": [
      "1 0.9122141251307154\n",
      "2 0.9117495582135373\n",
      "3 0.9115339271165899\n",
      "4 0.9118686399903224\n",
      "5 0.9118449351545952\n"
     ]
    }
   ],
   "source": [
    "#minimalna ilosc obserwacji po podziale\n",
    "for k in [1,2,3,4,5]:\n",
    "    test_precisions, probs, indices,model=CV_RF(features=features,n_estimators=50,max_depth=10,max_features=8,min_samples_split=10,min_samples_leaf=k)\n",
    "    print(k,np.mean(test_precisions))"
   ]
  },
  {
   "cell_type": "code",
   "execution_count": 183,
   "id": "0f37a975",
   "metadata": {},
   "outputs": [
    {
     "name": "stdout",
     "output_type": "stream",
     "text": [
      "50 0.9122141251307154\n",
      "75 0.9120986166483165\n",
      "100 0.9124649293865043\n",
      "125 0.9124638278364413\n",
      "150 0.9123863416617022\n",
      "175 0.9123637933871571\n",
      "200 0.9123766984454171\n"
     ]
    }
   ],
   "source": [
    "#liczba drzew\n",
    "for k in [50,75,100,125,150,175,200]:\n",
    "    test_precisions, probs, indices,model=CV_RF(features=features,n_estimators=k,max_depth=10,max_features=8,min_samples_split=10,min_samples_leaf=1)   \n",
    "    print(k,np.mean(test_precisions))"
   ]
  },
  {
   "cell_type": "code",
   "execution_count": 39,
   "id": "da081b3e",
   "metadata": {},
   "outputs": [
    {
     "name": "stdout",
     "output_type": "stream",
     "text": [
      "0.9118460092705245\n"
     ]
    }
   ],
   "source": [
    "test_precisions, probs, indices,model=CV_RF(features=features,n_estimators=100,max_depth=10,max_features=8,min_samples_split=10,min_samples_leaf=1)   \n",
    "precis=np.mean(test_precisions)\n",
    "print(precis)"
   ]
  },
  {
   "cell_type": "code",
   "execution_count": 6,
   "id": "54664647",
   "metadata": {},
   "outputs": [
    {
     "data": {
      "text/plain": [
       "[('PAY_0', 0.3178162740526303),\n",
       " ('PAY_2', 0.11038004686834076),\n",
       " ('PAY_4', 0.05531156055329554),\n",
       " ('PAY_3', 0.04868232813081056),\n",
       " ('BILL_AMT1', 0.03783733253651171),\n",
       " ('LIMIT_BAL', 0.037613165881591394),\n",
       " ('PAY_5', 0.03418508189052191),\n",
       " ('PAY_AMT3', 0.03154156314691243),\n",
       " ('PAY_AMT1', 0.031000385430015587),\n",
       " ('PAY_AMT2', 0.03011936664500869),\n",
       " ('AGE', 0.028252021633135352),\n",
       " ('BILL_AMT2', 0.027509660204440196),\n",
       " ('BILL_AMT6', 0.026028036014340623),\n",
       " ('PAY_AMT5', 0.025638488101772976),\n",
       " ('PAY_AMT6', 0.025632984485359625),\n",
       " ('BILL_AMT3', 0.02546748032694123),\n",
       " ('PAY_AMT4', 0.024995641342186844),\n",
       " ('BILL_AMT4', 0.023775572489922178),\n",
       " ('BILL_AMT5', 0.023561455314857257),\n",
       " ('PAY_6', 0.01850948740124314),\n",
       " ('EDUCATION', 0.00835738863392508),\n",
       " ('MARRIAGE', 0.004636061130689911),\n",
       " ('SEX', 0.0031486177855465244)]"
      ]
     },
     "execution_count": 6,
     "metadata": {},
     "output_type": "execute_result"
    }
   ],
   "source": [
    "#sprawdzmy udzial poszczegolnych zmiennych w prognozowaniu\n",
    "importances=list(zip(features,model.feature_importances_.tolist()))\n",
    "importances.sort(key= lambda x: x[1],reverse=True)\n",
    "importances"
   ]
  },
  {
   "cell_type": "code",
   "execution_count": 40,
   "id": "e5cd1485",
   "metadata": {},
   "outputs": [],
   "source": [
    "#najlepsze argumenty z grid searcha\n",
    "\n",
    "parametersRF={'n_estimators':100,'max_depth':10,'max_features':8,'min_samples_split':10,'min_samples_leaf':1}"
   ]
  },
  {
   "cell_type": "code",
   "execution_count": null,
   "id": "bc9fd0f5",
   "metadata": {},
   "outputs": [],
   "source": [
    "parametersRF"
   ]
  },
  {
   "cell_type": "code",
   "execution_count": 42,
   "id": "6cb17930",
   "metadata": {},
   "outputs": [
    {
     "name": "stdout",
     "output_type": "stream",
     "text": [
      "0.9123555666092585\n",
      "Poprawa modelu\n",
      "0.9123555666092585\n"
     ]
    }
   ],
   "source": [
    "#grupowanie malo istotnych zmiennych o podobnych wspolczynnikach\n",
    "\n",
    "grupowanie(df=df,columns=['BILL_AMT4','BILL_AMT5'],new_column='BILL_AMT45',\n",
    "          valid=CV_RF,function='mean',features=features,precision=precis,**parametersRF)"
   ]
  },
  {
   "cell_type": "code",
   "execution_count": 43,
   "id": "aa96d748",
   "metadata": {},
   "outputs": [
    {
     "name": "stdout",
     "output_type": "stream",
     "text": [
      "0.9123636864552147\n",
      "Poprawa modelu\n",
      "0.9123636864552147\n"
     ]
    }
   ],
   "source": [
    "test_precisions, probs, indices,model=CV_RF(df=df,features=features,**parametersRF)   \n",
    "precis=np.mean(test_precisions)\n",
    "\n",
    "grupowanie(df=df,columns=['BILL_AMT3','BILL_AMT6'],new_column='BILL_AMT36',\n",
    "          valid=CV_RF,function='mean',features=features,precision=precis,**parametersRF)"
   ]
  },
  {
   "cell_type": "code",
   "execution_count": 44,
   "id": "2f091659",
   "metadata": {},
   "outputs": [
    {
     "name": "stdout",
     "output_type": "stream",
     "text": [
      "0.9117639985679835\n",
      "Brak poprawy modelu\n",
      "0.9123636864552147\n"
     ]
    }
   ],
   "source": [
    "test_precisions, probs, indices,model=CV_RF(df=df,features=features,**parametersRF)   \n",
    "precis=np.mean(test_precisions)\n",
    "\n",
    "grupowanie(df=df,columns=['PAY_AMT5','PAY_AMT6'],new_column='PAY_AMT56',\n",
    "          valid=CV_RF,function='mean',features=features,precision=precis,**parametersRF)"
   ]
  },
  {
   "cell_type": "code",
   "execution_count": 50,
   "id": "695b711c",
   "metadata": {},
   "outputs": [
    {
     "name": "stdout",
     "output_type": "stream",
     "text": [
      "0.912176861369878\n",
      "Brak poprawy modelu\n"
     ]
    }
   ],
   "source": [
    "#kolejne grupowanie nie ulepsza modelu\n",
    "log_func(df,'PAY_AMT2',valid=CV_RF,features=features,precision=precis,**parametersRF)\n",
    "#tak samo logarytmowanie skosnej zmiennej"
   ]
  },
  {
   "cell_type": "code",
   "execution_count": 51,
   "id": "66727a31",
   "metadata": {},
   "outputs": [
    {
     "name": "stdout",
     "output_type": "stream",
     "text": [
      "0.9130307582805971\n"
     ]
    }
   ],
   "source": [
    "cols=df.loc[:,'PAY_0':'PAY_6'].columns.tolist()\n",
    "df['PAY_max']=df[cols].apply('max',axis=1)\n",
    "\n",
    "features2=features.copy()\n",
    "features2.append(\"PAY_max\")\n",
    "\n",
    "test_precisions, probs, indices,model=CV_RF(features=features2,df=df,**parametersRF)   \n",
    "print(np.mean(test_precisions))\n",
    "#poprawa po dodaniu maksymalnego zwlekania z zaplata"
   ]
  },
  {
   "cell_type": "code",
   "execution_count": 53,
   "id": "ab6995b5",
   "metadata": {},
   "outputs": [
    {
     "name": "stdout",
     "output_type": "stream",
     "text": [
      "0.9130307582805971\n"
     ]
    }
   ],
   "source": [
    "features=features2.copy()\n",
    "\n",
    "test_precisions, probs, indices,model=CV_RF(features=features,df=df,**parametersRF)   \n",
    "print(np.mean(test_precisions))"
   ]
  },
  {
   "cell_type": "code",
   "execution_count": 54,
   "id": "b16be91e",
   "metadata": {},
   "outputs": [],
   "source": [
    "#warto poszukac optymalnych hiperparametrow za pomoca random search"
   ]
  },
  {
   "cell_type": "code",
   "execution_count": 199,
   "id": "86c975ab",
   "metadata": {},
   "outputs": [
    {
     "name": "stdout",
     "output_type": "stream",
     "text": [
      "0.9120514650222423\n",
      "0.9117113681468385\n",
      "0.9117545467936872\n",
      "0.9124741752725225\n",
      "0.9113792734452222\n",
      "0.9120584430871039\n",
      "0.9117741083024444\n",
      "0.9125824029552645\n",
      "0.9122354517698531\n",
      "0.9119888123173492\n",
      "0.9117052742230991\n",
      "0.9117887671559011\n",
      "0.911490083351846\n",
      "0.9106047090401053\n",
      "0.9117476349508025\n",
      "0.9119606810453696\n",
      "0.9122281568075581\n",
      "0.9120622321530115\n",
      "0.9123505345152021\n",
      "0.9121206384824049\n",
      "0.9112923391179095\n",
      "0.9114860249365127\n",
      "0.9108517229134308\n",
      "0.9118713592707139\n",
      "0.9127185437248307\n",
      "0.9119599509481999\n",
      "0.9115310027314478\n",
      "0.9119231461285716\n",
      "0.9123799322371102\n",
      "0.9119189680459637\n",
      "0.9114674979031495\n",
      "0.9122453236946395\n",
      "0.9118204071695132\n",
      "0.911518025551335\n",
      "0.9121082177739126\n",
      "0.912257144421712\n",
      "0.9121597164528605\n",
      "0.9117985889635116\n",
      "0.9119984886985119\n",
      "0.9115974155330064\n",
      "0.9114965588353618\n",
      "0.9110678676480498\n",
      "0.9116778271112513\n",
      "0.911391585444638\n",
      "0.912072078407275\n",
      "0.9122587133140106\n",
      "0.911480484340397\n",
      "0.9113930380120052\n",
      "0.9113907442111691\n",
      "0.9114148153923909\n"
     ]
    }
   ],
   "source": [
    "results=[]\n",
    "for k in range(50):\n",
    "    parameters={'n_estimators':np.random.choice(range(75,180,5)),\n",
    "                'max_depth':np.random.randint(8,14),\n",
    "                'max_features':np.random.randint(4,11),\n",
    "                'min_samples_split':np.random.randint(2,11)\n",
    "               }\n",
    "    parameters['min_samples_leaf']=np.random.randint(1,parameters['min_samples_split']//2+1)\n",
    "    test_precisions, probs, indices,model=CV_RF(**parameters,features=features,df=df)   \n",
    "    results.append((parameters.copy(),np.mean(test_precisions)))\n",
    "    print(np.mean(test_precisions))"
   ]
  },
  {
   "cell_type": "code",
   "execution_count": 200,
   "id": "8dc292d4",
   "metadata": {},
   "outputs": [
    {
     "data": {
      "text/plain": [
       "({'n_estimators': 100,\n",
       "  'max_depth': 11,\n",
       "  'max_features': 10,\n",
       "  'min_samples_split': 9,\n",
       "  'min_samples_leaf': 2},\n",
       " 0.9127185437248307)"
      ]
     },
     "execution_count": 200,
     "metadata": {},
     "output_type": "execute_result"
    }
   ],
   "source": [
    "sorted(results,key=lambda x: x[1],reverse=True)[0]\n",
    "#brak poprawy"
   ]
  },
  {
   "cell_type": "code",
   "execution_count": 57,
   "id": "19d61e92",
   "metadata": {},
   "outputs": [
    {
     "name": "stdout",
     "output_type": "stream",
     "text": [
      "0.9130307582805971\n"
     ]
    }
   ],
   "source": [
    "test_precisions, probs, indices,model=CV_RF(features=features,df=df,**parametersRF)   \n",
    "precis=np.mean(test_precisions)\n",
    "print(precis)"
   ]
  },
  {
   "cell_type": "code",
   "execution_count": 58,
   "id": "1eb23f0a",
   "metadata": {},
   "outputs": [],
   "source": [
    "probs=create_probs_series(probs,indices)"
   ]
  },
  {
   "cell_type": "code",
   "execution_count": 59,
   "id": "be1fa4de",
   "metadata": {},
   "outputs": [
    {
     "data": {
      "text/plain": [
       "{'n_estimators': 100,\n",
       " 'max_depth': 10,\n",
       " 'max_features': 8,\n",
       " 'min_samples_split': 10,\n",
       " 'min_samples_leaf': 1}"
      ]
     },
     "execution_count": 59,
     "metadata": {},
     "output_type": "execute_result"
    }
   ],
   "source": [
    "parametersRF"
   ]
  },
  {
   "cell_type": "code",
   "execution_count": 60,
   "id": "99ca417d",
   "metadata": {},
   "outputs": [],
   "source": [
    "modelRF = {\n",
    "    \"nazwa\":\"RF\",\n",
    "    \"opis\":\"Model RF, max_depth=10, max_features=8, min_samples_split=10, min_samples_leaf=1\",\n",
    "    \"specyfikacja\":{'n_estimators':100,'max_depth':10, 'max_features':8, 'min_samples_split':10,\n",
    "                    'min_samples_leaf':1,'features':features,'df':df},     \n",
    "    \"precyzja\":precis,\n",
    "    \"predykcje\":probs.copy(),\n",
    "    }"
   ]
  },
  {
   "cell_type": "code",
   "execution_count": 61,
   "id": "d5f0e277",
   "metadata": {},
   "outputs": [],
   "source": [
    "with open('ML_RF.p','wb') as fp:\n",
    "    pickle.dump(modelRF,fp)"
   ]
  }
 ],
 "metadata": {
  "kernelspec": {
   "display_name": "Python 3.8 (tensorflow)",
   "language": "python",
   "name": "tensorflow"
  },
  "language_info": {
   "codemirror_mode": {
    "name": "ipython",
    "version": 3
   },
   "file_extension": ".py",
   "mimetype": "text/x-python",
   "name": "python",
   "nbconvert_exporter": "python",
   "pygments_lexer": "ipython3",
   "version": "3.8.10"
  }
 },
 "nbformat": 4,
 "nbformat_minor": 5
}

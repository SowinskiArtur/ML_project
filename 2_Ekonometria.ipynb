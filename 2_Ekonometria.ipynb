{
 "cells": [
  {
   "cell_type": "code",
   "execution_count": 75,
   "id": "61932821",
   "metadata": {},
   "outputs": [],
   "source": [
    "import pandas as pd\n",
    "import numpy as np\n",
    "import pickle\n",
    "import statsmodels.api as sm\n",
    "from sklearn.metrics import average_precision_score\n",
    "from sklearn.model_selection import KFold, StratifiedKFold\n",
    "from sklearn import linear_model\n",
    "import matplotlib.pyplot as plt\n",
    "from functions import grupowanie, create_probs_series,log_func"
   ]
  },
  {
   "cell_type": "code",
   "execution_count": 76,
   "id": "d4b95f09",
   "metadata": {},
   "outputs": [],
   "source": [
    "#wczytujemy wcześniej przygotowany zbiór\n",
    "\n",
    "df=pd.read_excel(\"dumm_credit_card_data.xlsx\",index_col=\"ID\")\n",
    "df['constant']=1\n",
    "\n",
    "#zmienne objaśniające\n",
    "features=pd.concat([df.loc[:,:\"PAY_AMT6\"],df.loc[:,\"SEX_2\":]],axis=1).columns.tolist()"
   ]
  },
  {
   "cell_type": "code",
   "execution_count": 77,
   "id": "89417f60",
   "metadata": {},
   "outputs": [],
   "source": [
    "#tworzymy funkcję do walidacji krzyżowej w ekonometrii\n",
    "\n",
    "def CV_ekon(df=df,n_splits=5,random_state=111,features=features,*args,**kwargs):\n",
    "    test_precisions=[]\n",
    "    probs=[]\n",
    "    indices=[]\n",
    "    skf=StratifiedKFold(n_splits=n_splits,shuffle=True,random_state=random_state)\n",
    "    for train,test in skf.split(df[features],df.y):\n",
    "        model=sm.GLM(df.iloc[train].y,df.iloc[train][features],family=sm.families.Binomial(),*args,**kwargs)\n",
    "        res=model.fit()\n",
    "        preds=res.predict(df.iloc[test][features]).tolist()\n",
    "        probs.append(preds)\n",
    "        indices.append(test.tolist())\n",
    "        \n",
    "        #klasyfikacja dotyczy niewypłacalności, klient który nie wywiąże się ze zobowiązania wyszkodzi nam więcej szkody, niż dobry klient zysku\n",
    "        #użyjemy average_precision do porównywania modeli, ponieważ precyzja jest dla nas najważniejsza w tym problemie\n",
    "        test_precisions.append(average_precision_score(df.iloc[test].y,preds))\n",
    "    return test_precisions, probs, indices, res"
   ]
  },
  {
   "cell_type": "code",
   "execution_count": 78,
   "id": "8e62d52b",
   "metadata": {},
   "outputs": [
    {
     "name": "stdout",
     "output_type": "stream",
     "text": [
      "0.876053738027597\n"
     ]
    }
   ],
   "source": [
    "prec,probs,indices,res=CV_ekon()\n",
    "print(np.mean(prec))"
   ]
  },
  {
   "cell_type": "code",
   "execution_count": 79,
   "id": "7c98a2ab",
   "metadata": {},
   "outputs": [
    {
     "name": "stdout",
     "output_type": "stream",
     "text": [
      "0.8759393325541087\n"
     ]
    }
   ],
   "source": [
    "#zobaczmy czy dodanie kwadratu wieku przyniesie poprawę\n",
    "features2=features.copy()\n",
    "features2.append('AGE_SQ')\n",
    "prec,probs,indices,res=CV_ekon(features=features2)\n",
    "precis=np.mean(prec)\n",
    "print(precis)\n",
    "#brak poprawy"
   ]
  },
  {
   "cell_type": "code",
   "execution_count": 80,
   "id": "3f386b14",
   "metadata": {},
   "outputs": [
    {
     "name": "stdout",
     "output_type": "stream",
     "text": [
      "0.8900947890417414\n"
     ]
    }
   ],
   "source": [
    "#zobaczmy czy dodanie kwadratu zmiennej PAY przyniesie poprawę\n",
    "features2=features.copy()\n",
    "features2.extend(df.loc[:,'PAY_0_SQ':'PAY_6_SQ'].columns.tolist())\n",
    "prec,probs,indices,res=CV_ekon(features=features2)\n",
    "precis=np.mean(prec)\n",
    "print(precis)"
   ]
  },
  {
   "cell_type": "code",
   "execution_count": 81,
   "id": "a557891c",
   "metadata": {},
   "outputs": [],
   "source": [
    "#poprawa\n",
    "features=features2.copy()"
   ]
  },
  {
   "cell_type": "code",
   "execution_count": 82,
   "id": "ae3e1b71",
   "metadata": {},
   "outputs": [
    {
     "data": {
      "image/png": "[encoded data removed]",
      "text/plain": [
       "<Figure size 432x288 with 1 Axes>"
      ]
     },
     "metadata": {
      "needs_background": "light"
     },
     "output_type": "display_data"
    }
   ],
   "source": [
    "#sprawdzmy rozklad zmiennej wskazanej jako skosna przez pandas profiler\n",
    "df['PAY_AMT2'].hist(bins=10)\n",
    "plt.show()"
   ]
  },
  {
   "cell_type": "code",
   "execution_count": 84,
   "id": "0002c675",
   "metadata": {},
   "outputs": [
    {
     "name": "stdout",
     "output_type": "stream",
     "text": [
      "0.8936778945856144\n",
      "Poprawa modelu\n"
     ]
    }
   ],
   "source": [
    "#sprobujemy zlogarytmowac te zmienna\n",
    "log_func(df=df,column='PAY_AMT2',features=features,precision=precis,valid=CV_ekon)"
   ]
  },
  {
   "cell_type": "code",
   "execution_count": 85,
   "id": "7805ef85",
   "metadata": {},
   "outputs": [
    {
     "data": {
      "text/html": [
       "<table class=\"simpletable\">\n",
       "<caption>Generalized Linear Model Regression Results</caption>\n",
       "<tr>\n",
       "  <th>Dep. Variable:</th>           <td>y</td>        <th>  No. Observations:  </th>  <td> 24000</td> \n",
       "</tr>\n",
       "<tr>\n",
       "  <th>Model:</th>                  <td>GLM</td>       <th>  Df Residuals:      </th>  <td> 23963</td> \n",
       "</tr>\n",
       "<tr>\n",
       "  <th>Model Family:</th>        <td>Binomial</td>     <th>  Df Model:          </th>  <td>    36</td> \n",
       "</tr>\n",
       "<tr>\n",
       "  <th>Link Function:</th>         <td>logit</td>      <th>  Scale:             </th> <td>  1.0000</td>\n",
       "</tr>\n",
       "<tr>\n",
       "  <th>Method:</th>                <td>IRLS</td>       <th>  Log-Likelihood:    </th> <td> -10834.</td>\n",
       "</tr>\n",
       "<tr>\n",
       "  <th>Date:</th>            <td>Tue, 05 Oct 2021</td> <th>  Deviance:          </th> <td>  21668.</td>\n",
       "</tr>\n",
       "<tr>\n",
       "  <th>Time:</th>                <td>00:36:15</td>     <th>  Pearson chi2:      </th> <td>2.56e+06</td>\n",
       "</tr>\n",
       "<tr>\n",
       "  <th>No. Iterations:</th>         <td>21</td>        <th>  Pseudo R-squ. (CS):</th>  <td>0.1428</td> \n",
       "</tr>\n",
       "<tr>\n",
       "  <th>Covariance Type:</th>     <td>nonrobust</td>    <th>                     </th>     <td> </td>   \n",
       "</tr>\n",
       "</table>\n",
       "<table class=\"simpletable\">\n",
       "<tr>\n",
       "        <td></td>          <th>coef</th>     <th>std err</th>      <th>z</th>      <th>P>|z|</th>  <th>[0.025</th>    <th>0.975]</th>  \n",
       "</tr>\n",
       "<tr>\n",
       "  <th>LIMIT_BAL</th>    <td> 1.459e-06</td> <td> 1.87e-07</td> <td>    7.783</td> <td> 0.000</td> <td> 1.09e-06</td> <td> 1.83e-06</td>\n",
       "</tr>\n",
       "<tr>\n",
       "  <th>AGE</th>          <td>   -0.0030</td> <td>    0.002</td> <td>   -1.394</td> <td> 0.163</td> <td>   -0.007</td> <td>    0.001</td>\n",
       "</tr>\n",
       "<tr>\n",
       "  <th>PAY_0</th>        <td>    0.1649</td> <td>    0.062</td> <td>    2.658</td> <td> 0.008</td> <td>    0.043</td> <td>    0.286</td>\n",
       "</tr>\n",
       "<tr>\n",
       "  <th>PAY_2</th>        <td>   -0.0443</td> <td>    0.075</td> <td>   -0.594</td> <td> 0.553</td> <td>   -0.190</td> <td>    0.102</td>\n",
       "</tr>\n",
       "<tr>\n",
       "  <th>PAY_3</th>        <td>   -0.1064</td> <td>    0.090</td> <td>   -1.179</td> <td> 0.238</td> <td>   -0.283</td> <td>    0.071</td>\n",
       "</tr>\n",
       "<tr>\n",
       "  <th>PAY_4</th>        <td>   -0.2344</td> <td>    0.094</td> <td>   -2.500</td> <td> 0.012</td> <td>   -0.418</td> <td>   -0.051</td>\n",
       "</tr>\n",
       "<tr>\n",
       "  <th>PAY_5</th>        <td>    0.0698</td> <td>    0.091</td> <td>    0.766</td> <td> 0.443</td> <td>   -0.109</td> <td>    0.248</td>\n",
       "</tr>\n",
       "<tr>\n",
       "  <th>PAY_6</th>        <td>    0.3042</td> <td>    0.069</td> <td>    4.385</td> <td> 0.000</td> <td>    0.168</td> <td>    0.440</td>\n",
       "</tr>\n",
       "<tr>\n",
       "  <th>BILL_AMT1</th>    <td> 2.944e-06</td> <td> 1.18e-06</td> <td>    2.504</td> <td> 0.012</td> <td>  6.4e-07</td> <td> 5.25e-06</td>\n",
       "</tr>\n",
       "<tr>\n",
       "  <th>BILL_AMT2</th>    <td> -2.96e-06</td> <td> 1.43e-06</td> <td>   -2.074</td> <td> 0.038</td> <td>-5.76e-06</td> <td>-1.63e-07</td>\n",
       "</tr>\n",
       "<tr>\n",
       "  <th>BILL_AMT3</th>    <td>-1.501e-06</td> <td> 9.89e-07</td> <td>   -1.517</td> <td> 0.129</td> <td>-3.44e-06</td> <td> 4.38e-07</td>\n",
       "</tr>\n",
       "<tr>\n",
       "  <th>BILL_AMT4</th>    <td> 4.162e-07</td> <td> 1.33e-06</td> <td>    0.312</td> <td> 0.755</td> <td> -2.2e-06</td> <td> 3.03e-06</td>\n",
       "</tr>\n",
       "<tr>\n",
       "  <th>BILL_AMT5</th>    <td>-1.774e-07</td> <td> 1.59e-06</td> <td>   -0.112</td> <td> 0.911</td> <td>-3.28e-06</td> <td> 2.93e-06</td>\n",
       "</tr>\n",
       "<tr>\n",
       "  <th>BILL_AMT6</th>    <td>-3.419e-08</td> <td> 1.25e-06</td> <td>   -0.027</td> <td> 0.978</td> <td>-2.49e-06</td> <td> 2.42e-06</td>\n",
       "</tr>\n",
       "<tr>\n",
       "  <th>PAY_AMT1</th>     <td> 1.062e-05</td> <td> 2.39e-06</td> <td>    4.450</td> <td> 0.000</td> <td> 5.95e-06</td> <td> 1.53e-05</td>\n",
       "</tr>\n",
       "<tr>\n",
       "  <th>PAY_AMT3</th>     <td> 9.075e-09</td> <td> 1.56e-06</td> <td>    0.006</td> <td> 0.995</td> <td>-3.04e-06</td> <td> 3.06e-06</td>\n",
       "</tr>\n",
       "<tr>\n",
       "  <th>PAY_AMT4</th>     <td> 2.044e-06</td> <td> 1.79e-06</td> <td>    1.144</td> <td> 0.253</td> <td>-1.46e-06</td> <td> 5.55e-06</td>\n",
       "</tr>\n",
       "<tr>\n",
       "  <th>PAY_AMT5</th>     <td> 1.902e-06</td> <td> 1.91e-06</td> <td>    0.997</td> <td> 0.319</td> <td>-1.84e-06</td> <td> 5.64e-06</td>\n",
       "</tr>\n",
       "<tr>\n",
       "  <th>PAY_AMT6</th>     <td> 1.701e-06</td> <td> 1.38e-06</td> <td>    1.229</td> <td> 0.219</td> <td>-1.01e-06</td> <td> 4.41e-06</td>\n",
       "</tr>\n",
       "<tr>\n",
       "  <th>SEX_2</th>        <td>    0.0863</td> <td>    0.035</td> <td>    2.451</td> <td> 0.014</td> <td>    0.017</td> <td>    0.155</td>\n",
       "</tr>\n",
       "<tr>\n",
       "  <th>EDUCATION_1</th>  <td>  -20.7435</td> <td> 1.34e+04</td> <td>   -0.002</td> <td> 0.999</td> <td>-2.63e+04</td> <td> 2.63e+04</td>\n",
       "</tr>\n",
       "<tr>\n",
       "  <th>EDUCATION_2</th>  <td>  -20.6961</td> <td> 1.34e+04</td> <td>   -0.002</td> <td> 0.999</td> <td>-2.63e+04</td> <td> 2.63e+04</td>\n",
       "</tr>\n",
       "<tr>\n",
       "  <th>EDUCATION_3</th>  <td>  -20.6506</td> <td> 1.34e+04</td> <td>   -0.002</td> <td> 0.999</td> <td>-2.63e+04</td> <td> 2.63e+04</td>\n",
       "</tr>\n",
       "<tr>\n",
       "  <th>EDUCATION_4</th>  <td>  -19.6432</td> <td> 1.34e+04</td> <td>   -0.001</td> <td> 0.999</td> <td>-2.63e+04</td> <td> 2.63e+04</td>\n",
       "</tr>\n",
       "<tr>\n",
       "  <th>EDUCATION_5</th>  <td>  -19.3557</td> <td> 1.34e+04</td> <td>   -0.001</td> <td> 0.999</td> <td>-2.63e+04</td> <td> 2.63e+04</td>\n",
       "</tr>\n",
       "<tr>\n",
       "  <th>EDUCATION_6</th>  <td>  -20.4075</td> <td> 1.34e+04</td> <td>   -0.002</td> <td> 0.999</td> <td>-2.63e+04</td> <td> 2.63e+04</td>\n",
       "</tr>\n",
       "<tr>\n",
       "  <th>MARRIAGE_1</th>   <td>   -1.0103</td> <td>    0.554</td> <td>   -1.823</td> <td> 0.068</td> <td>   -2.096</td> <td>    0.076</td>\n",
       "</tr>\n",
       "<tr>\n",
       "  <th>MARRIAGE_2</th>   <td>   -0.8232</td> <td>    0.554</td> <td>   -1.485</td> <td> 0.138</td> <td>   -1.910</td> <td>    0.263</td>\n",
       "</tr>\n",
       "<tr>\n",
       "  <th>MARRIAGE_3</th>   <td>   -1.1213</td> <td>    0.573</td> <td>   -1.957</td> <td> 0.050</td> <td>   -2.244</td> <td>    0.002</td>\n",
       "</tr>\n",
       "<tr>\n",
       "  <th>constant</th>     <td>   22.9452</td> <td> 1.34e+04</td> <td>    0.002</td> <td> 0.999</td> <td>-2.63e+04</td> <td> 2.63e+04</td>\n",
       "</tr>\n",
       "<tr>\n",
       "  <th>PAY_0_SQ</th>     <td>   -0.1392</td> <td>    0.013</td> <td>  -11.051</td> <td> 0.000</td> <td>   -0.164</td> <td>   -0.115</td>\n",
       "</tr>\n",
       "<tr>\n",
       "  <th>PAY_2_SQ</th>     <td>   -0.0123</td> <td>    0.014</td> <td>   -0.908</td> <td> 0.364</td> <td>   -0.039</td> <td>    0.014</td>\n",
       "</tr>\n",
       "<tr>\n",
       "  <th>PAY_3_SQ</th>     <td>    0.0304</td> <td>    0.017</td> <td>    1.778</td> <td> 0.075</td> <td>   -0.003</td> <td>    0.064</td>\n",
       "</tr>\n",
       "<tr>\n",
       "  <th>PAY_4_SQ</th>     <td>    0.0161</td> <td>    0.017</td> <td>    0.938</td> <td> 0.348</td> <td>   -0.017</td> <td>    0.050</td>\n",
       "</tr>\n",
       "<tr>\n",
       "  <th>PAY_5_SQ</th>     <td>   -0.0258</td> <td>    0.017</td> <td>   -1.518</td> <td> 0.129</td> <td>   -0.059</td> <td>    0.008</td>\n",
       "</tr>\n",
       "<tr>\n",
       "  <th>PAY_6_SQ</th>     <td>   -0.0726</td> <td>    0.013</td> <td>   -5.468</td> <td> 0.000</td> <td>   -0.099</td> <td>   -0.047</td>\n",
       "</tr>\n",
       "<tr>\n",
       "  <th>PAY_AMT2_log</th> <td>    0.0858</td> <td>    0.008</td> <td>   11.161</td> <td> 0.000</td> <td>    0.071</td> <td>    0.101</td>\n",
       "</tr>\n",
       "</table>"
      ],
      "text/plain": [
       "<class 'statsmodels.iolib.summary.Summary'>\n",
       "\"\"\"\n",
       "                 Generalized Linear Model Regression Results                  \n",
       "==============================================================================\n",
       "Dep. Variable:                      y   No. Observations:                24000\n",
       "Model:                            GLM   Df Residuals:                    23963\n",
       "Model Family:                Binomial   Df Model:                           36\n",
       "Link Function:                  logit   Scale:                          1.0000\n",
       "Method:                          IRLS   Log-Likelihood:                -10834.\n",
       "Date:                Tue, 05 Oct 2021   Deviance:                       21668.\n",
       "Time:                        00:36:15   Pearson chi2:                 2.56e+06\n",
       "No. Iterations:                    21   Pseudo R-squ. (CS):             0.1428\n",
       "Covariance Type:            nonrobust                                         \n",
       "================================================================================\n",
       "                   coef    std err          z      P>|z|      [0.025      0.975]\n",
       "--------------------------------------------------------------------------------\n",
       "LIMIT_BAL     1.459e-06   1.87e-07      7.783      0.000    1.09e-06    1.83e-06\n",
       "AGE             -0.0030      0.002     -1.394      0.163      -0.007       0.001\n",
       "PAY_0            0.1649      0.062      2.658      0.008       0.043       0.286\n",
       "PAY_2           -0.0443      0.075     -0.594      0.553      -0.190       0.102\n",
       "PAY_3           -0.1064      0.090     -1.179      0.238      -0.283       0.071\n",
       "PAY_4           -0.2344      0.094     -2.500      0.012      -0.418      -0.051\n",
       "PAY_5            0.0698      0.091      0.766      0.443      -0.109       0.248\n",
       "PAY_6            0.3042      0.069      4.385      0.000       0.168       0.440\n",
       "BILL_AMT1     2.944e-06   1.18e-06      2.504      0.012     6.4e-07    5.25e-06\n",
       "BILL_AMT2     -2.96e-06   1.43e-06     -2.074      0.038   -5.76e-06   -1.63e-07\n",
       "BILL_AMT3    -1.501e-06   9.89e-07     -1.517      0.129   -3.44e-06    4.38e-07\n",
       "BILL_AMT4     4.162e-07   1.33e-06      0.312      0.755    -2.2e-06    3.03e-06\n",
       "BILL_AMT5    -1.774e-07   1.59e-06     -0.112      0.911   -3.28e-06    2.93e-06\n",
       "BILL_AMT6    -3.419e-08   1.25e-06     -0.027      0.978   -2.49e-06    2.42e-06\n",
       "PAY_AMT1      1.062e-05   2.39e-06      4.450      0.000    5.95e-06    1.53e-05\n",
       "PAY_AMT3      9.075e-09   1.56e-06      0.006      0.995   -3.04e-06    3.06e-06\n",
       "PAY_AMT4      2.044e-06   1.79e-06      1.144      0.253   -1.46e-06    5.55e-06\n",
       "PAY_AMT5      1.902e-06   1.91e-06      0.997      0.319   -1.84e-06    5.64e-06\n",
       "PAY_AMT6      1.701e-06   1.38e-06      1.229      0.219   -1.01e-06    4.41e-06\n",
       "SEX_2            0.0863      0.035      2.451      0.014       0.017       0.155\n",
       "EDUCATION_1    -20.7435   1.34e+04     -0.002      0.999   -2.63e+04    2.63e+04\n",
       "EDUCATION_2    -20.6961   1.34e+04     -0.002      0.999   -2.63e+04    2.63e+04\n",
       "EDUCATION_3    -20.6506   1.34e+04     -0.002      0.999   -2.63e+04    2.63e+04\n",
       "EDUCATION_4    -19.6432   1.34e+04     -0.001      0.999   -2.63e+04    2.63e+04\n",
       "EDUCATION_5    -19.3557   1.34e+04     -0.001      0.999   -2.63e+04    2.63e+04\n",
       "EDUCATION_6    -20.4075   1.34e+04     -0.002      0.999   -2.63e+04    2.63e+04\n",
       "MARRIAGE_1      -1.0103      0.554     -1.823      0.068      -2.096       0.076\n",
       "MARRIAGE_2      -0.8232      0.554     -1.485      0.138      -1.910       0.263\n",
       "MARRIAGE_3      -1.1213      0.573     -1.957      0.050      -2.244       0.002\n",
       "constant        22.9452   1.34e+04      0.002      0.999   -2.63e+04    2.63e+04\n",
       "PAY_0_SQ        -0.1392      0.013    -11.051      0.000      -0.164      -0.115\n",
       "PAY_2_SQ        -0.0123      0.014     -0.908      0.364      -0.039       0.014\n",
       "PAY_3_SQ         0.0304      0.017      1.778      0.075      -0.003       0.064\n",
       "PAY_4_SQ         0.0161      0.017      0.938      0.348      -0.017       0.050\n",
       "PAY_5_SQ        -0.0258      0.017     -1.518      0.129      -0.059       0.008\n",
       "PAY_6_SQ        -0.0726      0.013     -5.468      0.000      -0.099      -0.047\n",
       "PAY_AMT2_log     0.0858      0.008     11.161      0.000       0.071       0.101\n",
       "================================================================================\n",
       "\"\"\""
      ]
     },
     "execution_count": 85,
     "metadata": {},
     "output_type": "execute_result"
    }
   ],
   "source": [
    "prec,probs,indices,res=CV_ekon(features=features)\n",
    "res.summary()"
   ]
  },
  {
   "cell_type": "code",
   "execution_count": 87,
   "id": "88976b54",
   "metadata": {},
   "outputs": [
    {
     "name": "stdout",
     "output_type": "stream",
     "text": [
      "0.8938009663900676\n",
      "Poprawa modelu\n"
     ]
    }
   ],
   "source": [
    "#sprobujemy pogrupowac zmienne skorelowane MARRIAGE\n",
    "#MARRIAGE_1 i MARRIAGE_3 mają podobne współczynniki w regresji, więc pogrupuje je\n",
    "grupowanie(df,['MARRIAGE_1',\"MARRIAGE_3\"],'MARRIAGE',CV_ekon,function=sum,features=features,precision=np.mean(prec))"
   ]
  },
  {
   "cell_type": "code",
   "execution_count": 88,
   "id": "ebe4e2e7",
   "metadata": {},
   "outputs": [],
   "source": [
    "#marriage1 i marriage3 zostały połączone w jedną grupę"
   ]
  },
  {
   "cell_type": "code",
   "execution_count": 89,
   "id": "aa36bfec",
   "metadata": {},
   "outputs": [],
   "source": [
    "#sprobujmy pogrupowac zmienne EDUCATION"
   ]
  },
  {
   "cell_type": "code",
   "execution_count": 90,
   "id": "0a9797da",
   "metadata": {},
   "outputs": [
    {
     "name": "stdout",
     "output_type": "stream",
     "text": [
      "0.893884698227614\n",
      "Poprawa modelu\n"
     ]
    }
   ],
   "source": [
    "kolumny=df.loc[:,'EDUCATION_1':'EDUCATION_3'].columns.tolist()\n",
    "\n",
    "grupowanie(df=df,columns=kolumny,new_column='EDUCATION',valid=CV_ekon,function=sum,\n",
    "           features=features,precision=np.mean(prec))"
   ]
  },
  {
   "cell_type": "code",
   "execution_count": 91,
   "id": "f3515c2b",
   "metadata": {},
   "outputs": [],
   "source": [
    "#zmodyfikujemy nieco wrapper, aby wykonać regularyzację\n",
    "def CV_ekon_regul(df=df,n_splits=5,random_state=111,features=features,penalty='none',*args,**kwargs):\n",
    "    test_precisions=[]\n",
    "    probs=[]\n",
    "    indices=[]\n",
    "    skf=StratifiedKFold(n_splits=n_splits,shuffle=True,random_state=random_state)\n",
    "    for train,test in skf.split(df[features],df.y):\n",
    "        model=linear_model.LogisticRegression(penalty=penalty,random_state=random_state,*args,**kwargs)\n",
    "        res=model.fit(df.iloc[train][features],df.iloc[train].y)\n",
    "        preds=res.predict_proba(df.iloc[test][features])[:,1].tolist()\n",
    "        probs.append(preds)\n",
    "        indices.append(test.tolist())\n",
    "        test_precisions.append(average_precision_score(df.iloc[test].y,preds))\n",
    "    return test_precisions, probs, indices, res"
   ]
  },
  {
   "cell_type": "code",
   "execution_count": 92,
   "id": "77c7757d",
   "metadata": {},
   "outputs": [],
   "source": [
    "features2=features.copy()\n",
    "features2.remove('constant')"
   ]
  },
  {
   "cell_type": "code",
   "execution_count": 93,
   "id": "cf89e3d9",
   "metadata": {},
   "outputs": [
    {
     "name": "stdout",
     "output_type": "stream",
     "text": [
      "0.8693031173752302\n"
     ]
    }
   ],
   "source": [
    "test_precisions, probs, indices, res=CV_ekon_regul(max_iter=2000,features=features2)\n",
    "print(np.mean(test_precisions))\n",
    "#gorszy wynik dla regresji logistycznej z linear_model"
   ]
  },
  {
   "cell_type": "code",
   "execution_count": 94,
   "id": "f3ce38b1",
   "metadata": {},
   "outputs": [],
   "source": [
    "#sprawdzmy czy standaryzacja pomoze\n",
    "df2=df.copy()\n",
    "\n",
    "stand_features=df2[features2].dtypes[df2[features2].dtypes!='uint8'].index.tolist()\n",
    "stand_features.remove(\"MARRIAGE\")\n",
    "stand_features.remove(\"EDUCATION\")\n",
    "\n",
    "df2[stand_features]=df2[stand_features].apply(lambda x: (x-x.mean())/x.std())"
   ]
  },
  {
   "cell_type": "code",
   "execution_count": 95,
   "id": "7277e2ba",
   "metadata": {},
   "outputs": [
    {
     "name": "stdout",
     "output_type": "stream",
     "text": [
      "0.8938788567533471\n"
     ]
    }
   ],
   "source": [
    "test_precisions, probs, indices, res=CV_ekon_regul(max_iter=2000,features=features2,df=df2)\n",
    "print(np.mean(test_precisions))\n",
    "#tym razem wynik zblizony do regresji logistycznej z linear_model\n",
    "#sprobujmy użyć regularyzacji z użyciem Lasso i Ridge "
   ]
  },
  {
   "cell_type": "code",
   "execution_count": 96,
   "id": "8de6f367",
   "metadata": {},
   "outputs": [
    {
     "name": "stdout",
     "output_type": "stream",
     "text": [
      "0.01 0.8883139509503886\n",
      "0.1 0.8927304911748601\n",
      "1 0.893543536092514\n",
      "10 0.8936908176930588\n",
      "100 0.8937404220097219\n",
      "1000 0.8937397085811524\n"
     ]
    }
   ],
   "source": [
    "for alpha in [0.01,0.1,1,10,100,1000]:\n",
    "    test_precisions, probs, indices, res=CV_ekon_regul(C=alpha,max_iter=2000,penalty='l1',solver='liblinear',random_state=111,features=features2,df=df2)\n",
    "    print(alpha, np.mean(test_precisions))\n",
    "#brak poprawy dla lasso "
   ]
  },
  {
   "cell_type": "code",
   "execution_count": 97,
   "id": "5d73974c",
   "metadata": {},
   "outputs": [
    {
     "name": "stdout",
     "output_type": "stream",
     "text": [
      "0.01 0.8911497110403352\n",
      "0.1 0.893160732477547\n",
      "1 0.8935724173327376\n",
      "10 0.8937424213522048\n",
      "100 0.8938424424389598\n",
      "1000 0.8938594592434649\n",
      "10000 0.893858297114799\n",
      "100000 0.8938592968452074\n"
     ]
    }
   ],
   "source": [
    "for alpha in [0.01,0.1,1,10,100,1000,10000,100000]:\n",
    "    test_precisions, probs, indices, res=CV_ekon_regul(C=alpha,max_iter=2000,penalty='l2',random_state=111,solver='liblinear',features=features2,df=df2)\n",
    "    print(alpha, np.mean(test_precisions))\n",
    "#tak samo dla ridge"
   ]
  },
  {
   "cell_type": "code",
   "execution_count": 98,
   "id": "comprehensive-phone",
   "metadata": {},
   "outputs": [],
   "source": [
    "#sprawdzimy jak na ocenę modelu wpłynie usuwanie kolejnych zmiennych"
   ]
  },
  {
   "cell_type": "code",
   "execution_count": 99,
   "id": "intelligent-indicator",
   "metadata": {
    "scrolled": true
   },
   "outputs": [
    {
     "name": "stdout",
     "output_type": "stream",
     "text": [
      "0.893884698227614\n",
      "PAY_AMT3 0.8940610345855504\n",
      "BILL_AMT6 0.894143457520471\n",
      "BILL_AMT5 0.894165162855387\n",
      "BILL_AMT4 0.8941904605767241\n",
      "PAY_5 0.8942793884490688\n",
      "PAY_4_SQ 0.8943080264984863\n",
      "PAY_AMT4 0.8944410891658163\n",
      "PAY_AMT6 0.8945332219183104\n",
      "BILL_AMT3 0.8946275644323698\n"
     ]
    }
   ],
   "source": [
    "#spróbuję usuwać jedynie zmienne, których p_value jest większe od 0.05\n",
    "\n",
    "prec,probs,indices,res=CV_ekon(features=features)\n",
    "precis=np.mean(prec)\n",
    "print(precis)\n",
    "\n",
    "for i in res.pvalues[res.pvalues>0.05].sort_values(ascending=False).index:\n",
    "    features2=features.copy() \n",
    "    features2.remove(i)\n",
    "    prec,probs,indices,res=CV_ekon(features=features2)\n",
    "    precis2=np.mean(prec)\n",
    "    if precis2>precis:\n",
    "        print(i,precis2)\n",
    "        features=features2.copy()\n",
    "        precis=precis2"
   ]
  },
  {
   "cell_type": "code",
   "execution_count": 100,
   "id": "f6f61767",
   "metadata": {},
   "outputs": [
    {
     "name": "stdout",
     "output_type": "stream",
     "text": [
      "BILL_AMT1 0.8946383334975121\n"
     ]
    }
   ],
   "source": [
    "#spróbujmy usunąć zmienne BILL_AMT1 i BILL_AMT2 które są ze sobą skorelowane oraz stałą\n",
    "features2=features.copy()\n",
    "for j in [i for i in features2 if 'BILL_AMT' in i or i=='constant']: \n",
    "    features2.remove(j)\n",
    "    prec,probs,indices,res=CV_ekon(features=features2)\n",
    "    precis2=np.mean(prec)\n",
    "    if precis2>precis:\n",
    "        print(j,precis2)\n",
    "        features=features2.copy()\n",
    "        precis=precis2\n",
    "    else:\n",
    "        features2=features.copy()\n",
    "    "
   ]
  },
  {
   "cell_type": "code",
   "execution_count": 101,
   "id": "732fbbcc",
   "metadata": {},
   "outputs": [
    {
     "name": "stdout",
     "output_type": "stream",
     "text": [
      "LIMIT_BAL    1.0\n",
      "Name: LIMIT_BAL, dtype: float64\n",
      "AGE    1.0\n",
      "Name: AGE, dtype: float64\n",
      "PAY_0       1.0\n",
      "PAY_0_SQ    1.0\n",
      "Name: PAY_0, dtype: float64\n",
      "PAY_2       1.0\n",
      "PAY_2_SQ    1.0\n",
      "Name: PAY_2, dtype: float64\n",
      "PAY_3       1.000000\n",
      "PAY_4       0.801047\n",
      "PAY_3_SQ    1.000000\n",
      "Name: PAY_3, dtype: float64\n",
      "PAY_3       0.801047\n",
      "PAY_4       1.000000\n",
      "PAY_3_SQ    0.801047\n",
      "PAY_5_SQ    0.822179\n",
      "Name: PAY_4, dtype: float64\n",
      "PAY_6       1.00000\n",
      "PAY_5_SQ    0.82088\n",
      "PAY_6_SQ    1.00000\n",
      "Name: PAY_6, dtype: float64\n",
      "BILL_AMT2    1.0\n",
      "Name: BILL_AMT2, dtype: float64\n",
      "PAY_AMT1    1.0\n",
      "Name: PAY_AMT1, dtype: float64\n",
      "PAY_AMT5    1.0\n",
      "Name: PAY_AMT5, dtype: float64\n",
      "SEX_2    1.0\n",
      "Name: SEX_2, dtype: float64\n",
      "EDUCATION_4    1.0\n",
      "Name: EDUCATION_4, dtype: float64\n",
      "EDUCATION_5    1.0\n",
      "Name: EDUCATION_5, dtype: float64\n",
      "EDUCATION_6    1.0\n",
      "Name: EDUCATION_6, dtype: float64\n",
      "MARRIAGE_2    1.000000\n",
      "MARRIAGE     -0.996391\n",
      "Name: MARRIAGE_2, dtype: float64\n",
      "Series([], Name: constant, dtype: float64)\n",
      "PAY_0       1.0\n",
      "PAY_0_SQ    1.0\n",
      "Name: PAY_0_SQ, dtype: float64\n",
      "PAY_2       1.0\n",
      "PAY_2_SQ    1.0\n",
      "Name: PAY_2_SQ, dtype: float64\n",
      "PAY_3       1.000000\n",
      "PAY_4       0.801047\n",
      "PAY_3_SQ    1.000000\n",
      "Name: PAY_3_SQ, dtype: float64\n",
      "PAY_4       0.822179\n",
      "PAY_6       0.820880\n",
      "PAY_5_SQ    1.000000\n",
      "PAY_6_SQ    0.820880\n",
      "Name: PAY_5_SQ, dtype: float64\n",
      "PAY_6       1.00000\n",
      "PAY_5_SQ    0.82088\n",
      "PAY_6_SQ    1.00000\n",
      "Name: PAY_6_SQ, dtype: float64\n",
      "PAY_AMT2_log    1.0\n",
      "Name: PAY_AMT2_log, dtype: float64\n",
      "MARRIAGE_2   -0.996391\n",
      "MARRIAGE      1.000000\n",
      "Name: MARRIAGE, dtype: float64\n",
      "EDUCATION    1.0\n",
      "Name: EDUCATION, dtype: float64\n"
     ]
    }
   ],
   "source": [
    "#spróbujmy użyć stackingu\n",
    "#zobaczmy, które grupy zmiennych są wysoko skorelowane\n",
    "correlations=df[features].corr(method='spearman')\n",
    "for i in correlations.iterrows():\n",
    "    print(i[1][np.abs(i[1])>0.8])"
   ]
  },
  {
   "cell_type": "code",
   "execution_count": 102,
   "id": "427318b6",
   "metadata": {},
   "outputs": [],
   "source": [
    "#pogrupujmy te zmienne\n",
    "groups=[['PAY_6','PAY_5_SQ','PAY_6_SQ'],\n",
    "        ['MARRIAGE','MARRIAGE_2'],\n",
    "        ['PAY_3','PAY_4','PAY_3_SQ']]"
   ]
  },
  {
   "cell_type": "code",
   "execution_count": 104,
   "id": "1986d825",
   "metadata": {},
   "outputs": [
    {
     "name": "stdout",
     "output_type": "stream",
     "text": [
      "0.8170531115670615\n",
      "0.785133449580451\n",
      "0.8235738845099091\n"
     ]
    }
   ],
   "source": [
    "#predykcja tylko na tych grupach i dodanie predykcji do dfa\n",
    "for i,group in enumerate(groups):\n",
    "    test_precisions, probs, indices,res=CV_ekon(features=group,df=df)\n",
    "    print(np.mean(test_precisions))\n",
    "    df[f'group_{i}']=create_probs_series(probs,indices)"
   ]
  },
  {
   "cell_type": "code",
   "execution_count": 105,
   "id": "2a812979",
   "metadata": {},
   "outputs": [],
   "source": [
    "#stworzenie listy zmiennych zawierającej predykcje\n",
    "features2=features.copy()\n",
    "for i,group in enumerate(groups):\n",
    "    for j in group:\n",
    "        features2.remove(j)\n",
    "    features2.append(f'group_{i}')"
   ]
  },
  {
   "cell_type": "code",
   "execution_count": 106,
   "id": "279619c2",
   "metadata": {},
   "outputs": [
    {
     "name": "stdout",
     "output_type": "stream",
     "text": [
      "0.8916244506073078\n"
     ]
    }
   ],
   "source": [
    "test_precisions, probs, indices,res=CV_ekon(features=features2,df=df)\n",
    "print(np.mean(test_precisions))\n",
    "#brak poprawy dla pierwotnego modelu"
   ]
  },
  {
   "cell_type": "code",
   "execution_count": 107,
   "id": "51c8797a",
   "metadata": {},
   "outputs": [
    {
     "name": "stdout",
     "output_type": "stream",
     "text": [
      "0.8946383334975121\n"
     ]
    }
   ],
   "source": [
    "#stacking nie poprawił modelu, zapiszmy wcześniejszy model\n",
    "prec,probs,indices,res=CV_ekon(features=features,df=df)\n",
    "precis=np.mean(prec)\n",
    "print(precis)"
   ]
  },
  {
   "cell_type": "code",
   "execution_count": 108,
   "id": "af561e1e",
   "metadata": {},
   "outputs": [],
   "source": [
    "#tworzymy series pandasa zawierajaca predykcje\n",
    "probs=create_probs_series(probs,indices)"
   ]
  },
  {
   "cell_type": "code",
   "execution_count": 109,
   "id": "483a45ed",
   "metadata": {},
   "outputs": [],
   "source": [
    "modelEkon = {\n",
    "    \"nazwa\":\"Ekonometria\",\n",
    "    \"opis\":\"Model Ekonometryczny, regresja logistyczna\",\n",
    "    \"specyfikacja\":{'features':features.copy(),'df':df.copy()},\n",
    "    \"precyzja\":precis,\n",
    "    \"predykcje\":probs.copy(),\n",
    "    }"
   ]
  },
  {
   "cell_type": "code",
   "execution_count": 110,
   "id": "d65e36ce",
   "metadata": {},
   "outputs": [],
   "source": [
    "#zapisujemy model\n",
    "\n",
    "with open('ML_ekonometria.p','wb') as fp:\n",
    "    pickle.dump(modelEkon,fp)"
   ]
  }
 ],
 "metadata": {
  "kernelspec": {
   "display_name": "Python 3.8 (tensorflow)",
   "language": "python",
   "name": "tensorflow"
  },
  "language_info": {
   "codemirror_mode": {
    "name": "ipython",
    "version": 3
   },
   "file_extension": ".py",
   "mimetype": "text/x-python",
   "name": "python",
   "nbconvert_exporter": "python",
   "pygments_lexer": "ipython3",
   "version": "3.8.10"
  }
 },
 "nbformat": 4,
 "nbformat_minor": 5
}
